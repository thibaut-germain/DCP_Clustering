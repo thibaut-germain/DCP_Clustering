{
 "cells": [
  {
   "cell_type": "code",
   "execution_count": 8,
   "metadata": {},
   "outputs": [],
   "source": [
    "import numpy as np\n",
    "import pandas as pd\n",
    "from matplotlib import pyplot as plt\n",
    "from pathlib import Path\n",
    "import pyedflib\n",
    "import plotly.graph_objects as go\n",
    "from plotly.subplots import make_subplots\n",
    "import json\n",
    "import pickle"
   ]
  },
  {
   "attachments": {},
   "cell_type": "markdown",
   "metadata": {},
   "source": [
    "# Settings"
   ]
  },
  {
   "cell_type": "code",
   "execution_count": 9,
   "metadata": {},
   "outputs": [],
   "source": [
    "SAMPFREQ = 2000\n",
    "DOWN_SAMPFREQ = 250\n",
    "PROMINENCE = 0.03\n",
    "WLEN = 2\n",
    "MIN_CYCLE = 0.1\n",
    "MAX_CYCLE = 0.3 \n",
    "TRAINING_SIZE = 30 \n",
    "INTERVAL = 60 \n",
    "N_IN_CLUSTER = 5\n",
    "N_OUT_CLUSTER = 5\n",
    "IN_D = 0.2\n",
    "OUT_D = 0.2\n",
    "N_ITER = 10\n",
    "MAX_WARPING = 0.06\n",
    "QUNATILE = 0.95\n",
    "NJOBS =1\n",
    "VERBOSE= True"
   ]
  },
  {
   "attachments": {},
   "cell_type": "markdown",
   "metadata": {},
   "source": [
    "# Data"
   ]
  },
  {
   "cell_type": "code",
   "execution_count": 10,
   "metadata": {},
   "outputs": [],
   "source": [
    "# uploading mice list \n",
    "df = pd.read_csv(\"data/mice_list.csv\",index_col=0)"
   ]
  },
  {
   "cell_type": "code",
   "execution_count": 11,
   "metadata": {},
   "outputs": [],
   "source": [
    "# loading the dataset\n",
    "lst = []\n",
    "for line in df.values:\n",
    "    data = np.load(f\"data/{line[0]}\")\n",
    "\n",
    "    #data before injection\n",
    "    data2= data[line[2]:line[3]]\n",
    "    lst.append(data2)\n",
    "\n",
    "    #data after infection\n",
    "    data1 = data[line[4]:line[5]]\n",
    "    lst.append(data1) \n",
    "\n",
    "arr = np.array(lst,dtype=object)\n"
   ]
  },
  {
   "attachments": {},
   "cell_type": "markdown",
   "metadata": {},
   "source": [
    "# Clustering"
   ]
  },
  {
   "cell_type": "code",
   "execution_count": 12,
   "metadata": {},
   "outputs": [
    {
     "name": "stdout",
     "output_type": "stream",
     "text": [
      " ### Inhalation ###\n",
      "Iteration : 1/10 -- Inertia: 3.490449715634416\n",
      "Iteration : 2/10 -- Inertia: 2.0547852941108666\n",
      "Iteration : 3/10 -- Inertia: 1.8528678635509803\n",
      "Iteration : 4/10 -- Inertia: 1.6935984889346252\n",
      "Iteration : 5/10 -- Inertia: 1.557312009169982\n",
      "Iteration : 6/10 -- Inertia: 1.477594157019974\n",
      "Iteration : 7/10 -- Inertia: 1.3846713657453371\n",
      "Iteration : 8/10 -- Inertia: 1.3532028413745048\n",
      "Iteration : 9/10 -- Inertia: 1.3401759749625395\n",
      "Iteration : 10/10 -- Inertia: 1.2898887733295954\n",
      "\n",
      " ### Exhalation ###\n",
      "Iteration : 1/10 -- Inertia: 10.058619664493879\n",
      "Iteration : 2/10 -- Inertia: 4.855239952854605\n",
      "Iteration : 3/10 -- Inertia: 4.668160308020127\n",
      "Iteration : 4/10 -- Inertia: 4.7053753075017575\n",
      "Iteration : 5/10 -- Inertia: 4.561509795259925\n",
      "Iteration : 6/10 -- Inertia: 4.468227433568171\n",
      "Iteration : 7/10 -- Inertia: 4.472793390535412\n",
      "Iteration : 8/10 -- Inertia: 4.199939455295449\n",
      "Iteration : 9/10 -- Inertia: 4.266444393729924\n",
      "Iteration : 10/10 -- Inertia: 4.213562404728532\n"
     ]
    },
    {
     "data": {
      "text/plain": [
       "<tools.pipeline.Pipeline at 0x17d1803d0>"
      ]
     },
     "execution_count": 12,
     "metadata": {},
     "output_type": "execute_result"
    }
   ],
   "source": [
    "from tools.pipeline import Pipeline\n",
    "pipe = Pipeline(SAMPFREQ,PROMINENCE,WLEN,MIN_CYCLE,MAX_CYCLE,TRAINING_SIZE,INTERVAL,N_IN_CLUSTER,IN_D,N_OUT_CLUSTER,OUT_D,DOWN_SAMPFREQ,MAX_WARPING,N_ITER,QUNATILE,NJOBS,VERBOSE)\n",
    "pipe.fit(arr)"
   ]
  },
  {
   "cell_type": "code",
   "execution_count": 13,
   "metadata": {},
   "outputs": [
    {
     "data": {
      "application/vnd.plotly.v1+json": {
       "config": {
        "plotlyServerURL": "https://plot.ly"
       },
       "data": [
        {
         "type": "scatter",
         "xaxis": "x",
         "y": [
          3.490449715634416,
          2.0547852941108666,
          1.8528678635509803,
          1.6935984889346252,
          1.557312009169982,
          1.477594157019974,
          1.3846713657453371,
          1.3532028413745048,
          1.3401759749625395,
          1.2898887733295954,
          1.2457112507940564
         ],
         "yaxis": "y"
        },
        {
         "type": "scatter",
         "xaxis": "x2",
         "y": [
          10.058619664493879,
          4.855239952854605,
          4.668160308020127,
          4.7053753075017575,
          4.561509795259925,
          4.468227433568171,
          4.472793390535412,
          4.199939455295449,
          4.266444393729924,
          4.213562404728532,
          4.275836246665671
         ],
         "yaxis": "y2"
        }
       ],
       "layout": {
        "annotations": [
         {
          "font": {
           "size": 16
          },
          "showarrow": false,
          "text": "Inhalation Inertia Convergence",
          "x": 0.225,
          "xanchor": "center",
          "xref": "paper",
          "y": 1,
          "yanchor": "bottom",
          "yref": "paper"
         },
         {
          "font": {
           "size": 16
          },
          "showarrow": false,
          "text": "Exhalation Inertia Convergence",
          "x": 0.775,
          "xanchor": "center",
          "xref": "paper",
          "y": 1,
          "yanchor": "bottom",
          "yref": "paper"
         }
        ],
        "showlegend": false,
        "template": {
         "data": {
          "bar": [
           {
            "error_x": {
             "color": "#2a3f5f"
            },
            "error_y": {
             "color": "#2a3f5f"
            },
            "marker": {
             "line": {
              "color": "#E5ECF6",
              "width": 0.5
             },
             "pattern": {
              "fillmode": "overlay",
              "size": 10,
              "solidity": 0.2
             }
            },
            "type": "bar"
           }
          ],
          "barpolar": [
           {
            "marker": {
             "line": {
              "color": "#E5ECF6",
              "width": 0.5
             },
             "pattern": {
              "fillmode": "overlay",
              "size": 10,
              "solidity": 0.2
             }
            },
            "type": "barpolar"
           }
          ],
          "carpet": [
           {
            "aaxis": {
             "endlinecolor": "#2a3f5f",
             "gridcolor": "white",
             "linecolor": "white",
             "minorgridcolor": "white",
             "startlinecolor": "#2a3f5f"
            },
            "baxis": {
             "endlinecolor": "#2a3f5f",
             "gridcolor": "white",
             "linecolor": "white",
             "minorgridcolor": "white",
             "startlinecolor": "#2a3f5f"
            },
            "type": "carpet"
           }
          ],
          "choropleth": [
           {
            "colorbar": {
             "outlinewidth": 0,
             "ticks": ""
            },
            "type": "choropleth"
           }
          ],
          "contour": [
           {
            "colorbar": {
             "outlinewidth": 0,
             "ticks": ""
            },
            "colorscale": [
             [
              0,
              "#0d0887"
             ],
             [
              0.1111111111111111,
              "#46039f"
             ],
             [
              0.2222222222222222,
              "#7201a8"
             ],
             [
              0.3333333333333333,
              "#9c179e"
             ],
             [
              0.4444444444444444,
              "#bd3786"
             ],
             [
              0.5555555555555556,
              "#d8576b"
             ],
             [
              0.6666666666666666,
              "#ed7953"
             ],
             [
              0.7777777777777778,
              "#fb9f3a"
             ],
             [
              0.8888888888888888,
              "#fdca26"
             ],
             [
              1,
              "#f0f921"
             ]
            ],
            "type": "contour"
           }
          ],
          "contourcarpet": [
           {
            "colorbar": {
             "outlinewidth": 0,
             "ticks": ""
            },
            "type": "contourcarpet"
           }
          ],
          "heatmap": [
           {
            "colorbar": {
             "outlinewidth": 0,
             "ticks": ""
            },
            "colorscale": [
             [
              0,
              "#0d0887"
             ],
             [
              0.1111111111111111,
              "#46039f"
             ],
             [
              0.2222222222222222,
              "#7201a8"
             ],
             [
              0.3333333333333333,
              "#9c179e"
             ],
             [
              0.4444444444444444,
              "#bd3786"
             ],
             [
              0.5555555555555556,
              "#d8576b"
             ],
             [
              0.6666666666666666,
              "#ed7953"
             ],
             [
              0.7777777777777778,
              "#fb9f3a"
             ],
             [
              0.8888888888888888,
              "#fdca26"
             ],
             [
              1,
              "#f0f921"
             ]
            ],
            "type": "heatmap"
           }
          ],
          "heatmapgl": [
           {
            "colorbar": {
             "outlinewidth": 0,
             "ticks": ""
            },
            "colorscale": [
             [
              0,
              "#0d0887"
             ],
             [
              0.1111111111111111,
              "#46039f"
             ],
             [
              0.2222222222222222,
              "#7201a8"
             ],
             [
              0.3333333333333333,
              "#9c179e"
             ],
             [
              0.4444444444444444,
              "#bd3786"
             ],
             [
              0.5555555555555556,
              "#d8576b"
             ],
             [
              0.6666666666666666,
              "#ed7953"
             ],
             [
              0.7777777777777778,
              "#fb9f3a"
             ],
             [
              0.8888888888888888,
              "#fdca26"
             ],
             [
              1,
              "#f0f921"
             ]
            ],
            "type": "heatmapgl"
           }
          ],
          "histogram": [
           {
            "marker": {
             "pattern": {
              "fillmode": "overlay",
              "size": 10,
              "solidity": 0.2
             }
            },
            "type": "histogram"
           }
          ],
          "histogram2d": [
           {
            "colorbar": {
             "outlinewidth": 0,
             "ticks": ""
            },
            "colorscale": [
             [
              0,
              "#0d0887"
             ],
             [
              0.1111111111111111,
              "#46039f"
             ],
             [
              0.2222222222222222,
              "#7201a8"
             ],
             [
              0.3333333333333333,
              "#9c179e"
             ],
             [
              0.4444444444444444,
              "#bd3786"
             ],
             [
              0.5555555555555556,
              "#d8576b"
             ],
             [
              0.6666666666666666,
              "#ed7953"
             ],
             [
              0.7777777777777778,
              "#fb9f3a"
             ],
             [
              0.8888888888888888,
              "#fdca26"
             ],
             [
              1,
              "#f0f921"
             ]
            ],
            "type": "histogram2d"
           }
          ],
          "histogram2dcontour": [
           {
            "colorbar": {
             "outlinewidth": 0,
             "ticks": ""
            },
            "colorscale": [
             [
              0,
              "#0d0887"
             ],
             [
              0.1111111111111111,
              "#46039f"
             ],
             [
              0.2222222222222222,
              "#7201a8"
             ],
             [
              0.3333333333333333,
              "#9c179e"
             ],
             [
              0.4444444444444444,
              "#bd3786"
             ],
             [
              0.5555555555555556,
              "#d8576b"
             ],
             [
              0.6666666666666666,
              "#ed7953"
             ],
             [
              0.7777777777777778,
              "#fb9f3a"
             ],
             [
              0.8888888888888888,
              "#fdca26"
             ],
             [
              1,
              "#f0f921"
             ]
            ],
            "type": "histogram2dcontour"
           }
          ],
          "mesh3d": [
           {
            "colorbar": {
             "outlinewidth": 0,
             "ticks": ""
            },
            "type": "mesh3d"
           }
          ],
          "parcoords": [
           {
            "line": {
             "colorbar": {
              "outlinewidth": 0,
              "ticks": ""
             }
            },
            "type": "parcoords"
           }
          ],
          "pie": [
           {
            "automargin": true,
            "type": "pie"
           }
          ],
          "scatter": [
           {
            "fillpattern": {
             "fillmode": "overlay",
             "size": 10,
             "solidity": 0.2
            },
            "type": "scatter"
           }
          ],
          "scatter3d": [
           {
            "line": {
             "colorbar": {
              "outlinewidth": 0,
              "ticks": ""
             }
            },
            "marker": {
             "colorbar": {
              "outlinewidth": 0,
              "ticks": ""
             }
            },
            "type": "scatter3d"
           }
          ],
          "scattercarpet": [
           {
            "marker": {
             "colorbar": {
              "outlinewidth": 0,
              "ticks": ""
             }
            },
            "type": "scattercarpet"
           }
          ],
          "scattergeo": [
           {
            "marker": {
             "colorbar": {
              "outlinewidth": 0,
              "ticks": ""
             }
            },
            "type": "scattergeo"
           }
          ],
          "scattergl": [
           {
            "marker": {
             "colorbar": {
              "outlinewidth": 0,
              "ticks": ""
             }
            },
            "type": "scattergl"
           }
          ],
          "scattermapbox": [
           {
            "marker": {
             "colorbar": {
              "outlinewidth": 0,
              "ticks": ""
             }
            },
            "type": "scattermapbox"
           }
          ],
          "scatterpolar": [
           {
            "marker": {
             "colorbar": {
              "outlinewidth": 0,
              "ticks": ""
             }
            },
            "type": "scatterpolar"
           }
          ],
          "scatterpolargl": [
           {
            "marker": {
             "colorbar": {
              "outlinewidth": 0,
              "ticks": ""
             }
            },
            "type": "scatterpolargl"
           }
          ],
          "scatterternary": [
           {
            "marker": {
             "colorbar": {
              "outlinewidth": 0,
              "ticks": ""
             }
            },
            "type": "scatterternary"
           }
          ],
          "surface": [
           {
            "colorbar": {
             "outlinewidth": 0,
             "ticks": ""
            },
            "colorscale": [
             [
              0,
              "#0d0887"
             ],
             [
              0.1111111111111111,
              "#46039f"
             ],
             [
              0.2222222222222222,
              "#7201a8"
             ],
             [
              0.3333333333333333,
              "#9c179e"
             ],
             [
              0.4444444444444444,
              "#bd3786"
             ],
             [
              0.5555555555555556,
              "#d8576b"
             ],
             [
              0.6666666666666666,
              "#ed7953"
             ],
             [
              0.7777777777777778,
              "#fb9f3a"
             ],
             [
              0.8888888888888888,
              "#fdca26"
             ],
             [
              1,
              "#f0f921"
             ]
            ],
            "type": "surface"
           }
          ],
          "table": [
           {
            "cells": {
             "fill": {
              "color": "#EBF0F8"
             },
             "line": {
              "color": "white"
             }
            },
            "header": {
             "fill": {
              "color": "#C8D4E3"
             },
             "line": {
              "color": "white"
             }
            },
            "type": "table"
           }
          ]
         },
         "layout": {
          "annotationdefaults": {
           "arrowcolor": "#2a3f5f",
           "arrowhead": 0,
           "arrowwidth": 1
          },
          "autotypenumbers": "strict",
          "coloraxis": {
           "colorbar": {
            "outlinewidth": 0,
            "ticks": ""
           }
          },
          "colorscale": {
           "diverging": [
            [
             0,
             "#8e0152"
            ],
            [
             0.1,
             "#c51b7d"
            ],
            [
             0.2,
             "#de77ae"
            ],
            [
             0.3,
             "#f1b6da"
            ],
            [
             0.4,
             "#fde0ef"
            ],
            [
             0.5,
             "#f7f7f7"
            ],
            [
             0.6,
             "#e6f5d0"
            ],
            [
             0.7,
             "#b8e186"
            ],
            [
             0.8,
             "#7fbc41"
            ],
            [
             0.9,
             "#4d9221"
            ],
            [
             1,
             "#276419"
            ]
           ],
           "sequential": [
            [
             0,
             "#0d0887"
            ],
            [
             0.1111111111111111,
             "#46039f"
            ],
            [
             0.2222222222222222,
             "#7201a8"
            ],
            [
             0.3333333333333333,
             "#9c179e"
            ],
            [
             0.4444444444444444,
             "#bd3786"
            ],
            [
             0.5555555555555556,
             "#d8576b"
            ],
            [
             0.6666666666666666,
             "#ed7953"
            ],
            [
             0.7777777777777778,
             "#fb9f3a"
            ],
            [
             0.8888888888888888,
             "#fdca26"
            ],
            [
             1,
             "#f0f921"
            ]
           ],
           "sequentialminus": [
            [
             0,
             "#0d0887"
            ],
            [
             0.1111111111111111,
             "#46039f"
            ],
            [
             0.2222222222222222,
             "#7201a8"
            ],
            [
             0.3333333333333333,
             "#9c179e"
            ],
            [
             0.4444444444444444,
             "#bd3786"
            ],
            [
             0.5555555555555556,
             "#d8576b"
            ],
            [
             0.6666666666666666,
             "#ed7953"
            ],
            [
             0.7777777777777778,
             "#fb9f3a"
            ],
            [
             0.8888888888888888,
             "#fdca26"
            ],
            [
             1,
             "#f0f921"
            ]
           ]
          },
          "colorway": [
           "#636efa",
           "#EF553B",
           "#00cc96",
           "#ab63fa",
           "#FFA15A",
           "#19d3f3",
           "#FF6692",
           "#B6E880",
           "#FF97FF",
           "#FECB52"
          ],
          "font": {
           "color": "#2a3f5f"
          },
          "geo": {
           "bgcolor": "white",
           "lakecolor": "white",
           "landcolor": "#E5ECF6",
           "showlakes": true,
           "showland": true,
           "subunitcolor": "white"
          },
          "hoverlabel": {
           "align": "left"
          },
          "hovermode": "closest",
          "mapbox": {
           "style": "light"
          },
          "paper_bgcolor": "white",
          "plot_bgcolor": "#E5ECF6",
          "polar": {
           "angularaxis": {
            "gridcolor": "white",
            "linecolor": "white",
            "ticks": ""
           },
           "bgcolor": "#E5ECF6",
           "radialaxis": {
            "gridcolor": "white",
            "linecolor": "white",
            "ticks": ""
           }
          },
          "scene": {
           "xaxis": {
            "backgroundcolor": "#E5ECF6",
            "gridcolor": "white",
            "gridwidth": 2,
            "linecolor": "white",
            "showbackground": true,
            "ticks": "",
            "zerolinecolor": "white"
           },
           "yaxis": {
            "backgroundcolor": "#E5ECF6",
            "gridcolor": "white",
            "gridwidth": 2,
            "linecolor": "white",
            "showbackground": true,
            "ticks": "",
            "zerolinecolor": "white"
           },
           "zaxis": {
            "backgroundcolor": "#E5ECF6",
            "gridcolor": "white",
            "gridwidth": 2,
            "linecolor": "white",
            "showbackground": true,
            "ticks": "",
            "zerolinecolor": "white"
           }
          },
          "shapedefaults": {
           "line": {
            "color": "#2a3f5f"
           }
          },
          "ternary": {
           "aaxis": {
            "gridcolor": "white",
            "linecolor": "white",
            "ticks": ""
           },
           "baxis": {
            "gridcolor": "white",
            "linecolor": "white",
            "ticks": ""
           },
           "bgcolor": "#E5ECF6",
           "caxis": {
            "gridcolor": "white",
            "linecolor": "white",
            "ticks": ""
           }
          },
          "title": {
           "x": 0.05
          },
          "xaxis": {
           "automargin": true,
           "gridcolor": "white",
           "linecolor": "white",
           "ticks": "",
           "title": {
            "standoff": 15
           },
           "zerolinecolor": "white",
           "zerolinewidth": 2
          },
          "yaxis": {
           "automargin": true,
           "gridcolor": "white",
           "linecolor": "white",
           "ticks": "",
           "title": {
            "standoff": 15
           },
           "zerolinecolor": "white",
           "zerolinewidth": 2
          }
         }
        },
        "xaxis": {
         "anchor": "y",
         "domain": [
          0,
          0.45
         ],
         "title": {
          "text": "Iteration"
         }
        },
        "xaxis2": {
         "anchor": "y2",
         "domain": [
          0.55,
          1
         ],
         "title": {
          "text": "Iteration"
         }
        },
        "yaxis": {
         "anchor": "x",
         "domain": [
          0,
          1
         ],
         "title": {
          "text": "Inertia"
         }
        },
        "yaxis2": {
         "anchor": "x2",
         "domain": [
          0,
          1
         ],
         "title": {
          "text": "Inertia"
         }
        }
       }
      }
     },
     "metadata": {},
     "output_type": "display_data"
    }
   ],
   "source": [
    "pipe.plot_intertia()"
   ]
  },
  {
   "cell_type": "code",
   "execution_count": 14,
   "metadata": {},
   "outputs": [
    {
     "data": {
      "application/vnd.plotly.v1+json": {
       "config": {
        "plotlyServerURL": "https://plot.ly"
       },
       "data": [
        {
         "marker": {
          "color": "rgb(256,0,0)"
         },
         "mode": "lines",
         "type": "scatter",
         "x": [
          0,
          0.004,
          0.008,
          0.012,
          0.016,
          0.02,
          0.024,
          0.028,
          0.032,
          0.036,
          0.04,
          0.044
         ],
         "xaxis": "x2",
         "y": [
          0.0009108693064687816,
          0.20557150316623835,
          0.382323868772403,
          0.5776817465476376,
          0.819553404745547,
          1.1218929774929338,
          1.4707463306629958,
          1.8195996838330575,
          2.1824071711299218,
          2.526609146257716,
          2.605682572976263,
          1.842856574044395
         ],
         "yaxis": "y2"
        },
        {
         "marker": {
          "color": "rgb(0,64,224)"
         },
         "mode": "lines",
         "type": "scatter",
         "x": [
          0.048,
          0.052,
          0.056,
          0.06,
          0.064,
          0.068,
          0.072,
          0.076,
          0.08,
          0.084,
          0.088,
          0.092,
          0.096,
          0.1,
          0.104,
          0.108,
          0.112,
          0.116,
          0.12,
          0.124
         ],
         "xaxis": "x2",
         "y": [
          0.5962872587167075,
          -0.7479609954985972,
          -1.2270529338521485,
          -0.7526123735408646,
          -0.3014287034409181,
          -0.20840114259556827,
          -0.7665665076676671,
          -1.3386860068665685,
          -1.6549797137407578,
          -1.8549889695582598,
          -2.2131450788128566,
          -2.8085214682230952,
          -3.5015767965209514,
          -4.008577003128107,
          -4.0364852713817125,
          -3.529485064774556,
          -2.645723236743733,
          -1.72475038437477,
          -1.0084381658655766,
          -0.5246948494697576
         ],
         "yaxis": "y2"
        },
        {
         "marker": {
          "color": "rgb(256,0,0)"
         },
         "mode": "lines",
         "type": "scatter",
         "x": [
          0,
          0.004,
          0.008,
          0.012,
          0.016,
          0.02,
          0.024,
          0.028,
          0.032,
          0.036,
          0.04,
          0.044,
          0.048,
          0.052,
          0.056,
          0.06,
          0.064,
          0.068,
          0.072
         ],
         "xaxis": "x3",
         "y": [
          -0.0932910353246559,
          0.39851689936673035,
          0.6324255512321457,
          0.6324255512321457,
          0.5124723964293686,
          0.36852861066603604,
          0.24257779812312005,
          0.09263635461964866,
          -0.08729337758451704,
          -0.3032090562295159,
          -0.4111668955520153,
          -0.3032090562295159,
          0.050652750438676654,
          0.5544560006103406,
          0.956299069199644,
          1.1302311436636707,
          1.124233485923532,
          1.034268619821449,
          0.8963224917982554
         ],
         "yaxis": "y3"
        },
        {
         "marker": {
          "color": "rgb(0,128,192)"
         },
         "mode": "lines",
         "type": "scatter",
         "x": [
          0.076,
          0.08,
          0.084,
          0.088,
          0.092,
          0.096,
          0.1,
          0.104,
          0.108,
          0.112,
          0.116,
          0.12,
          0.124,
          0.128,
          0.132,
          0.136,
          0.14,
          0.144,
          0.148,
          0.152,
          0.156,
          0.16,
          0.164,
          0.168,
          0.172
         ],
         "xaxis": "x3",
         "y": [
          0.5724489738307572,
          -0.009323826962711909,
          -0.8370005951018741,
          -1.7126586251621472,
          -2.342412687876727,
          -2.6183049439231145,
          -2.4983517891203375,
          -2.1684806134127004,
          -1.850604753185341,
          -1.6466843900206196,
          -1.634689074540342,
          -1.760639887083258,
          -2.0305344853895066,
          -2.3963916075379768,
          -2.7862393606470026,
          -3.0741269321736677,
          -3.1520964827954727,
          -3.0261456702525567,
          -2.726262783245614,
          -2.4383752117189488,
          -2.2764384527351997,
          -2.2464501640345054,
          -2.1984689021133943,
          -1.8685977264057574,
          -1.178867086289789
         ],
         "yaxis": "y3"
        },
        {
         "marker": {
          "color": "rgb(256,0,0)"
         },
         "mode": "lines",
         "type": "scatter",
         "x": [
          0,
          0.004,
          0.008,
          0.012,
          0.016,
          0.02,
          0.024,
          0.028,
          0.032,
          0.036,
          0.04,
          0.044,
          0.048,
          0.052
         ],
         "xaxis": "x4",
         "y": [
          0.0009108693064687816,
          0.052076027771411175,
          0.09858980819408607,
          0.16370910078583092,
          0.2613880396734482,
          0.3683697346456005,
          0.4986083198290902,
          0.6381496610971149,
          0.7730396243228721,
          0.8986268314640944,
          0.9823516362249092,
          1.0056085264362467,
          0.9265350997176993,
          0.7032689536888598
         ],
         "yaxis": "y4"
        },
        {
         "marker": {
          "color": "rgb(0,192,160)"
         },
         "mode": "lines",
         "type": "scatter",
         "x": [
          0.056,
          0.06,
          0.064,
          0.068,
          0.072,
          0.076,
          0.08,
          0.084,
          0.088,
          0.092,
          0.096,
          0.1,
          0.104,
          0.108
         ],
         "xaxis": "x4",
         "y": [
          0.35441560051879806,
          -0.05955704524300859,
          -0.4781810690470827,
          -0.9014564708934243,
          -1.3526401409933708,
          -1.8131265671778525,
          -2.152677164263379,
          -2.2317505909819264,
          -2.017787201037622,
          -1.5898604211490128,
          -1.1014657267109265,
          -0.6688875687800498,
          -0.347942483863593,
          -0.13863047196155592
         ],
         "yaxis": "y4"
        },
        {
         "marker": {
          "color": "rgb(256,0,0)"
         },
         "mode": "lines",
         "type": "scatter",
         "x": [
          0,
          0.004,
          0.008,
          0.012,
          0.016,
          0.02,
          0.024,
          0.028,
          0.032,
          0.036,
          0.04,
          0.044,
          0.048,
          0.052,
          0.056,
          0.06,
          0.064,
          0.068,
          0.072,
          0.076,
          0.08,
          0.084,
          0.088,
          0.092
         ],
         "xaxis": "x5",
         "y": [
          -0.09659134859234098,
          0.04902041153583481,
          0.3159753051041571,
          0.665443529411779,
          1.0391803804074302,
          1.3692337033646287,
          1.6070662449073156,
          1.767239181048309,
          1.8594599624628205,
          1.9177046665140907,
          1.94197329320212,
          1.9031434905012732,
          1.878874863813244,
          1.9031434905012732,
          1.9905105465781787,
          1.9274121171893024,
          1.3401113513389935,
          1.0877176337834888,
          1.9516807438773318,
          3.737851668116288,
          5.295897501487769,
          5.242506522774105,
          3.3738222677958487,
          1.495430562142381
         ],
         "yaxis": "y5"
        },
        {
         "marker": {
          "color": "rgb(0,256,128)"
         },
         "mode": "lines",
         "type": "scatter",
         "x": [
          0.096,
          0.1,
          0.104,
          0.108,
          0.112,
          0.116,
          0.12,
          0.124,
          0.128,
          0.132,
          0.136,
          0.14,
          0.144,
          0.148,
          0.152,
          0.156,
          0.16,
          0.164,
          0.168,
          0.172,
          0.176,
          0.18,
          0.184,
          0.188,
          0.192,
          0.196,
          0.2,
          0.204,
          0.208,
          0.212,
          0.216,
          0.22,
          0.224
         ],
         "xaxis": "x5",
         "y": [
          0.17521727031358716,
          -0.3781074181734808,
          -0.4460595728999629,
          -0.4945968262760215,
          -0.36839996749826914,
          -0.3198627141222105,
          -0.5334266289768683,
          -0.9120172053101254,
          -1.266339154955353,
          -1.5235865978484637,
          -1.7322967873655157,
          -1.824517568780027,
          -1.7371505127031215,
          -1.4896105204852228,
          -1.1158736694895715,
          -0.7372830931563145,
          -0.4217909462119336,
          -0.2276419327076992,
          -0.13542115129318785,
          -0.1062987992675527,
          -0.10144507392994684,
          -0.11600624994276441,
          -0.15968977798121717,
          -0.2664717354085461,
          -0.475181924925598,
          -0.7858203465323731,
          -1.1158736694895715,
          -1.3148764083314117,
          -1.3197301336690177,
          -1.16441092286563,
          -0.9508470080109723,
          -0.7324293678187086,
          -0.4460595728999629
         ],
         "yaxis": "y5"
        },
        {
         "marker": {
          "color": "rgb(256,64,0)"
         },
         "mode": "lines",
         "type": "scatter",
         "x": [
          0,
          0.004,
          0.008,
          0.012,
          0.016,
          0.02,
          0.024,
          0.028,
          0.032,
          0.036,
          0.04,
          0.044,
          0.048,
          0.052,
          0.056,
          0.06,
          0.064,
          0.068,
          0.072,
          0.076,
          0.08,
          0.084,
          0.088,
          0.092,
          0.096,
          0.1,
          0.104,
          0.108
         ],
         "xaxis": "x6",
         "y": [
          -0.04590234225987306,
          0.07730952925916257,
          0.22421599145493581,
          0.3663835355153615,
          0.5038121614404397,
          0.6270240329594754,
          0.7360191500724684,
          0.8165807583733763,
          0.8687088578621991,
          0.8876645304035892,
          0.8829256122682416,
          0.8639699397268515,
          0.8260585946440714,
          0.769191577019901,
          0.7123245593957308,
          0.6554575417715605,
          0.6033294422827378,
          0.5464624246585674,
          0.48485648889904964,
          0.4232505531395318,
          0.361644617380014,
          0.31899435416188626,
          0.2858219272144536,
          0.262127336537716,
          0.23369382772563085,
          0.2005214007781982,
          0.162610055695418,
          0.11522087434194275
         ],
         "yaxis": "y6"
        },
        {
         "marker": {
          "color": "rgb(0,0,256)"
         },
         "mode": "lines",
         "type": "scatter",
         "x": [
          0.112,
          0.116,
          0.12,
          0.124,
          0.128,
          0.132,
          0.136,
          0.14,
          0.144,
          0.148,
          0.152,
          0.156,
          0.16,
          0.164,
          0.168,
          0.172,
          0.176,
          0.18,
          0.184,
          0.188,
          0.192,
          0.196,
          0.2,
          0.204,
          0.208,
          0.212,
          0.216,
          0.22,
          0.224,
          0.228,
          0.232,
          0.236,
          0.24,
          0.244,
          0.248,
          0.252,
          0.256,
          0.26,
          0.264,
          0.268,
          0.272,
          0.276,
          0.28,
          0.284,
          0.288,
          0.292,
          0.296
         ],
         "xaxis": "x6",
         "y": [
          0.04887602044707742,
          -0.017468833447787914,
          -0.08381368734265325,
          -0.1312028686961285,
          -0.1501585412375186,
          -0.15963637750821363,
          -0.15489745937286611,
          -0.14541962310217105,
          -0.135941786831476,
          -0.12172503242543344,
          -0.12646395056078097,
          -0.135941786831476,
          -0.15489745937286611,
          -0.1738531319142562,
          -0.1928088044556463,
          -0.22124231326773144,
          -0.25915365835051163,
          -0.31128175783933437,
          -0.36814877546350466,
          -0.4297547112230225,
          -0.4866217288471928,
          -0.534010910200668,
          -0.5671833371481007,
          -0.5766611734187957,
          -0.5719222552834482,
          -0.5577055008774057,
          -0.543488746471363,
          -0.534010910200668,
          -0.5292719920653205,
          -0.524533073929973,
          -0.5292719920653205,
          -0.534010910200668,
          -0.524533073929973,
          -0.5008384832532353,
          -0.4676660563058027,
          -0.43923254749371754,
          -0.4155379568169799,
          -0.4013212024109373,
          -0.38236552986954725,
          -0.3728876935988522,
          -0.36340985732815717,
          -0.35393202105746213,
          -0.334976348516072,
          -0.3065428397039869,
          -0.26863149462120667,
          -0.22598123140307896,
          -0.16437529564356115
         ],
         "yaxis": "y6"
        },
        {
         "marker": {
          "color": "rgb(256,64,0)"
         },
         "mode": "lines",
         "type": "scatter",
         "x": [
          0,
          0.004,
          0.008,
          0.012,
          0.016,
          0.02,
          0.024,
          0.028,
          0.032,
          0.036,
          0.04,
          0.044,
          0.048
         ],
         "xaxis": "x7",
         "y": [
          -0.16639002059965788,
          1.2472142366674515,
          2.5493514915694124,
          3.5474878309300597,
          4.175756389715441,
          4.474690623331067,
          4.540557488365018,
          4.408823758297116,
          4.099756160830113,
          3.588021286335568,
          2.843219043259349,
          1.9160162508583418,
          0.9786800946059576
         ],
         "yaxis": "y7"
        },
        {
         "marker": {
          "color": "rgb(0,64,224)"
         },
         "mode": "lines",
         "type": "scatter",
         "x": [
          0.052,
          0.056,
          0.06,
          0.064,
          0.068,
          0.072,
          0.076,
          0.08,
          0.084,
          0.088,
          0.092,
          0.096,
          0.1,
          0.104,
          0.108,
          0.112,
          0.116,
          0.12,
          0.124,
          0.128,
          0.132,
          0.136,
          0.14,
          0.144,
          0.148,
          0.152,
          0.156,
          0.16,
          0.164,
          0.168,
          0.172,
          0.176,
          0.18,
          0.184,
          0.188,
          0.192,
          0.196,
          0.2,
          0.204,
          0.208,
          0.212
         ],
         "xaxis": "x7",
         "y": [
          0.20854444190129587,
          -0.22212352178223208,
          -0.37919066147857755,
          -0.3690572976272004,
          -0.2981237506675605,
          -0.23225688563360922,
          -0.1917234302281007,
          -0.18665674830241213,
          -0.22212352178223208,
          -0.26772365911342916,
          -0.293057068741872,
          -0.2981237506675605,
          -0.2778570229648063,
          -0.24239024948498633,
          -0.20185679407947782,
          -0.16639002059965788,
          -0.14612329289690362,
          -0.14612329289690362,
          -0.1613233386739693,
          -0.20185679407947782,
          -0.2626569771877406,
          -0.3538572518501347,
          -0.48052429999234886,
          -0.6578581673914485,
          -0.9213256275272539,
          -1.2607933165483878,
          -1.6661278706034728,
          -2.0511956969558036,
          -2.3551966124971173,
          -2.537597161821906,
          -2.5983973449301687,
          -2.5781306172274143,
          -2.497063706416397,
          -2.385596704051249,
          -2.269063019760412,
          -2.1677293812466405,
          -2.081595788509935,
          -1.9751954680704753,
          -1.7623948271915555,
          -1.372260318913536,
          -0.7743918516822855
         ],
         "yaxis": "y7"
        },
        {
         "marker": {
          "color": "rgb(256,64,0)"
         },
         "mode": "lines",
         "type": "scatter",
         "x": [
          0,
          0.004,
          0.008,
          0.012,
          0.016,
          0.02,
          0.024,
          0.028,
          0.032,
          0.036,
          0.04,
          0.044,
          0.048,
          0.052,
          0.056,
          0.06,
          0.064,
          0.068,
          0.072,
          0.076,
          0.08,
          0.084
         ],
         "xaxis": "x8",
         "y": [
          -0.036424505989178006,
          0.4090337987334892,
          0.859231021591504,
          1.2430833905546534,
          1.55585198748759,
          1.8117535667963562,
          2.0297438010223425,
          2.2145616083008957,
          2.3282956435492363,
          2.3567291523613214,
          2.3046010528724987,
          2.2145616083008957,
          2.1197832455939456,
          2.025004882886995,
          1.9160097657740018,
          1.7691033035782286,
          1.5985022507057178,
          1.4279011978332068,
          1.257300144960696,
          1.0630045014114475,
          0.8260585946440714,
          0.5417235065232199
         ],
         "yaxis": "y8"
        },
        {
         "marker": {
          "color": "rgb(0,128,192)"
         },
         "mode": "lines",
         "type": "scatter",
         "x": [
          0.088,
          0.092,
          0.096,
          0.1,
          0.104,
          0.108,
          0.112,
          0.116,
          0.12,
          0.124,
          0.128,
          0.132,
          0.136,
          0.14,
          0.144,
          0.148,
          0.152,
          0.156,
          0.16,
          0.164,
          0.168,
          0.172,
          0.176,
          0.18,
          0.184,
          0.188,
          0.192,
          0.196,
          0.2,
          0.204,
          0.208,
          0.212,
          0.216,
          0.22,
          0.224,
          0.228,
          0.232,
          0.236,
          0.24,
          0.244,
          0.248
         ],
         "xaxis": "x8",
         "y": [
          0.2431716639963259,
          -0.036424505989178006,
          -0.25915365835051163,
          -0.4060601205462849,
          -0.47714389257649775,
          -0.5008384832532353,
          -0.534010910200668,
          -0.6098336003662284,
          -0.7283065537499165,
          -0.8752130159456898,
          -1.0079027237354203,
          -1.1263756771191085,
          -1.2069372854200164,
          -1.2448486305027966,
          -1.249587548638144,
          -1.230631876096754,
          -1.221154039826059,
          -1.2353707942321015,
          -1.2685432211795342,
          -1.3064545662623144,
          -1.330149156939052,
          -1.3348880750743997,
          -1.311193484397662,
          -1.2638043030441868,
          -1.192720531013974,
          -1.1074200045777185,
          -1.031597314412158,
          -0.9747302967879877,
          -0.9368189517052076,
          -0.8894297703517323,
          -0.8136070801861719,
          -0.7377843900206116,
          -0.6809173723964412,
          -0.6572227817197036,
          -0.6430060273136611,
          -0.6145725185015759,
          -0.5719222552834482,
          -0.5197941557946254,
          -0.46292713817045517,
          -0.3871044480048948,
          -0.2496758220798166
         ],
         "yaxis": "y8"
        },
        {
         "marker": {
          "color": "rgb(256,64,0)"
         },
         "mode": "lines",
         "type": "scatter",
         "x": [
          0,
          0.004,
          0.008,
          0.012,
          0.016,
          0.02,
          0.024,
          0.028,
          0.032,
          0.036,
          0.04,
          0.044,
          0.048,
          0.052,
          0.056,
          0.06,
          0.064,
          0.068,
          0.072,
          0.076,
          0.08,
          0.084,
          0.088,
          0.092,
          0.096
         ],
         "xaxis": "x9",
         "y": [
          -0.07351117936981107,
          0.0846356740672836,
          0.29394768596932064,
          0.5358193441672301,
          0.7916451364919421,
          1.0288654166475841,
          1.228874672465086,
          1.3777187698176458,
          1.4567921965361932,
          1.4893518428320656,
          1.512608733043403,
          1.540517001297008,
          1.568425269550613,
          1.568425269550613,
          1.5219114891279382,
          1.4335353063248557,
          1.321902233310436,
          1.2056177822537488,
          1.0893333311970614,
          0.9777002581826417,
          0.8660671851682219,
          0.7544341121538022,
          0.6381496610971149,
          0.4986083198290902,
          0.3311587103074606
         ],
         "yaxis": "y9"
        },
        {
         "marker": {
          "color": "rgb(0,192,160)"
         },
         "mode": "lines",
         "type": "scatter",
         "x": [
          0.1,
          0.104,
          0.108,
          0.112,
          0.116,
          0.12,
          0.124,
          0.128,
          0.132,
          0.136,
          0.14,
          0.144,
          0.148,
          0.152,
          0.156,
          0.16,
          0.164,
          0.168,
          0.172,
          0.176,
          0.18,
          0.184,
          0.188,
          0.192,
          0.196,
          0.2,
          0.204,
          0.208,
          0.212,
          0.216,
          0.22,
          0.224,
          0.228,
          0.232,
          0.236
         ],
         "xaxis": "x9",
         "y": [
          0.15440634470129597,
          -0.0037405087357987084,
          -0.13863047196155592,
          -0.23630941084917323,
          -0.2874745693141156,
          -0.31538283756772056,
          -0.33398834973679054,
          -0.38050213015946543,
          -0.4828324470893502,
          -0.6316765444419099,
          -0.8084289100480745,
          -0.9805298976119716,
          -1.124722616922264,
          -1.2363556899366837,
          -1.324731872739766,
          -1.3945025433737783,
          -1.4270621896696507,
          -1.4317135677119182,
          -1.3991539214160458,
          -1.343337384908836,
          -1.268915336232556,
          -1.1758877753872061,
          -1.0735574584573215,
          -0.9712271415274366,
          -0.8595940685130169,
          -0.7526123735408646,
          -0.6409793005264448,
          -0.5526031177233626,
          -0.49678658121615266,
          -0.4642269349202802,
          -0.4409700447089428,
          -0.40375902037080286,
          -0.338639727779058,
          -0.26421767910277816,
          -0.18049287434196334
         ],
         "yaxis": "y9"
        },
        {
         "marker": {
          "color": "rgb(256,64,0)"
         },
         "mode": "lines",
         "type": "scatter",
         "x": [
          0,
          0.004,
          0.008,
          0.012,
          0.016,
          0.02,
          0.024,
          0.028,
          0.032,
          0.036,
          0.04,
          0.044,
          0.048,
          0.052,
          0.056,
          0.06,
          0.064,
          0.068,
          0.072
         ],
         "xaxis": "x10",
         "y": [
          -0.22124231326773144,
          0.27160517280841107,
          0.8450142671854615,
          1.418423361562512,
          1.9207486839093493,
          2.309339971007846,
          2.5747193865873075,
          2.7263647669184286,
          2.7832317845425987,
          2.759537193865861,
          2.669497749294258,
          2.5083745326924425,
          2.2856453803311085,
          2.0107881284809523,
          1.6838027771419732,
          1.3236449988555614,
          0.9350537117570644,
          0.5654180971999575,
          0.2668662546730635
         ],
         "yaxis": "y10"
        },
        {
         "marker": {
          "color": "rgb(0,256,128)"
         },
         "mode": "lines",
         "type": "scatter",
         "x": [
          0.076,
          0.08,
          0.084,
          0.088,
          0.092,
          0.096,
          0.1,
          0.104,
          0.108,
          0.112,
          0.116,
          0.12,
          0.124,
          0.128,
          0.132,
          0.136,
          0.14,
          0.144,
          0.148,
          0.152,
          0.156,
          0.16,
          0.164,
          0.168,
          0.172,
          0.176,
          0.18,
          0.184,
          0.188,
          0.192,
          0.196,
          0.2,
          0.204,
          0.208,
          0.212,
          0.216,
          0.22,
          0.224,
          0.228,
          0.232,
          0.236,
          0.24,
          0.244,
          0.248,
          0.252,
          0.256,
          0.26,
          0.264,
          0.268,
          0.272,
          0.276,
          0.28,
          0.284,
          0.288
         ],
         "xaxis": "x10",
         "y": [
          0.06309277485312,
          -0.04590234225987306,
          -0.09803044174869582,
          -0.12172503242543344,
          -0.12646395056078097,
          -0.12646395056078097,
          -0.1312028686961285,
          -0.14068070496682353,
          -0.15489745937286611,
          -0.16911421377890867,
          -0.19754772259099382,
          -0.24019798580912155,
          -0.3065428397039869,
          -0.38236552986954725,
          -0.47714389257649775,
          -0.6050946822308809,
          -0.7851735713740868,
          -0.9984248874647254,
          -1.230631876096754,
          -1.4438831921873927,
          -1.6334399176012935,
          -1.7993020523384569,
          -1.9414695963988826,
          -2.0315090409704855,
          -2.0599425497825705,
          -2.007814450293748,
          -1.898819333180755,
          -1.728218280308244,
          -1.4960112916762154,
          -1.2069372854200164,
          -0.9083854428931224,
          -0.6714395361257463,
          -0.5292719920653205,
          -0.4724049744411502,
          -0.43449362935837,
          -0.38236552986954725,
          -0.29706500343329184,
          -0.20702555886168886,
          -0.12646395056078097,
          -0.06485801480126316,
          -0.04590234225987306,
          -0.0743358510719582,
          -0.15489745937286611,
          -0.2733704127565542,
          -0.4060601205462849,
          -0.5482276646067106,
          -0.6714395361257463,
          -0.7662178988326966,
          -0.8088681620508245,
          -0.8136070801861719,
          -0.7851735713740868,
          -0.7235676356145689,
          -0.6050946822308809,
          -0.38236552986954725
         ],
         "yaxis": "y10"
        },
        {
         "marker": {
          "color": "rgb(256,128,0)"
         },
         "mode": "lines",
         "type": "scatter",
         "x": [
          0,
          0.004,
          0.008,
          0.012,
          0.016,
          0.02,
          0.024,
          0.028,
          0.032,
          0.036,
          0.04,
          0.044,
          0.048,
          0.052,
          0.056,
          0.06,
          0.064,
          0.068,
          0.072,
          0.076,
          0.08,
          0.084,
          0.088,
          0.092,
          0.096,
          0.1
         ],
         "xaxis": "x11",
         "y": [
          -0.21241893644616786,
          0.10078564202335229,
          0.4467130869001357,
          0.769267055771731,
          1.035724682230875,
          1.2367365758754925,
          1.3863268223086962,
          1.4891701167315237,
          1.5639652399481254,
          1.6247362775616145,
          1.6808326199740657,
          1.7416036575875549,
          1.8070493904020815,
          1.8584710376134952,
          1.895868599221796,
          1.9145673800259466,
          1.9239167704280218,
          1.9145673800259466,
          1.8818445136186832,
          1.8163987808041566,
          1.7088807911802915,
          1.5546158495460503,
          1.3442545654993576,
          1.0684475486381384,
          0.7552429701686183,
          0.4420383916990981
         ],
         "yaxis": "y11"
        },
        {
         "marker": {
          "color": "rgb(0,0,256)"
         },
         "mode": "lines",
         "type": "scatter",
         "x": [
          0.104,
          0.108,
          0.112,
          0.116,
          0.12,
          0.124,
          0.128,
          0.132,
          0.136,
          0.14,
          0.144,
          0.148,
          0.152,
          0.156,
          0.16,
          0.164,
          0.168,
          0.172,
          0.176,
          0.18,
          0.184,
          0.188,
          0.192,
          0.196,
          0.2,
          0.204,
          0.208,
          0.212,
          0.216,
          0.22,
          0.224,
          0.228,
          0.232
         ],
         "xaxis": "x11",
         "y": [
          0.1709060700389165,
          -0.00673234760051284,
          -0.12359972762645319,
          -0.18904546044097978,
          -0.23579241245135593,
          -0.28253936446173206,
          -0.34331040207522107,
          -0.44615369649804854,
          -0.5957439429312522,
          -0.7967558365758696,
          -1.035165291828788,
          -1.2875988326848191,
          -1.530682983138775,
          -1.7410442671854676,
          -1.9093332944228218,
          -2.026200674448762,
          -2.1056704928664014,
          -2.152417444876778,
          -2.171116225680928,
          -2.14774274967574,
          -2.0822970168612134,
          -1.965429636835273,
          -1.8111646952010318,
          -1.6428756679636778,
          -1.4792613359273612,
          -1.3436951750972705,
          -1.2361771854734054,
          -1.1613820622568034,
          -1.1006110246433145,
          -1.0258159014267128,
          -0.9229726070038852,
          -0.7453341893644558,
          -0.4508283916990862
         ],
         "yaxis": "y11"
        },
        {
         "marker": {
          "color": "rgb(256,128,0)"
         },
         "mode": "lines",
         "type": "scatter",
         "x": [
          0,
          0.004,
          0.008,
          0.012,
          0.016,
          0.02,
          0.024,
          0.028,
          0.032,
          0.036,
          0.04,
          0.044,
          0.048,
          0.052,
          0.056,
          0.06,
          0.064,
          0.068,
          0.072,
          0.076,
          0.08,
          0.084,
          0.088,
          0.092
         ],
         "xaxis": "x12",
         "y": [
          -0.12883428702219854,
          0.26916296635386006,
          0.635320439459834,
          0.9377983520256385,
          1.1686367589837525,
          1.3278356603341759,
          1.4313149462119512,
          1.4949945067521206,
          1.5268342870222054,
          1.5586740672922899,
          1.5905138475623746,
          1.6223536278324593,
          1.6701132982375864,
          1.7099130235751923,
          1.7576726939803193,
          1.7815525291828829,
          1.7735925841153617,
          1.7258329137102346,
          1.6303135728999805,
          1.471114671549557,
          1.2482362096589643,
          0.9855580224307655,
          0.683080109864961,
          0.35672236209659297
         ],
         "yaxis": "y12"
        },
        {
         "marker": {
          "color": "rgb(0,64,224)"
         },
         "mode": "lines",
         "type": "scatter",
         "x": [
          0.096,
          0.1,
          0.104,
          0.108,
          0.112,
          0.116,
          0.12,
          0.124,
          0.128,
          0.132,
          0.136,
          0.14,
          0.144,
          0.148,
          0.152,
          0.156,
          0.16,
          0.164,
          0.168,
          0.172,
          0.176,
          0.18,
          0.184,
          0.188,
          0.192,
          0.196,
          0.2
         ],
         "xaxis": "x12",
         "y": [
          0.046284504463267234,
          -0.18455390249484677,
          -0.3119130235751855,
          -0.335792858777749,
          -0.3119130235751855,
          -0.2721132982375796,
          -0.24823346303501614,
          -0.24027351796749497,
          -0.24027351796749497,
          -0.2641533531700585,
          -0.29599313344014316,
          -0.3437528038452702,
          -0.3994724193179184,
          -0.5029517051956937,
          -0.7019503318837229,
          -1.0521879148546545,
          -1.537744563973446,
          -2.0949407186999283,
          -2.5725374227511986,
          -2.8590954451819606,
          -2.9068551155870876,
          -2.7556161593041852,
          -2.4929379720759868,
          -2.1745401693751396,
          -1.8243025864042082,
          -1.4263053330281497,
          -0.9725884641794428
         ],
         "yaxis": "y12"
        },
        {
         "marker": {
          "color": "rgb(256,128,0)"
         },
         "mode": "lines",
         "type": "scatter",
         "x": [
          0,
          0.004,
          0.008,
          0.012,
          0.016,
          0.02,
          0.024,
          0.028,
          0.032,
          0.036,
          0.04,
          0.044,
          0.048,
          0.052,
          0.056,
          0.06,
          0.064,
          0.068,
          0.072,
          0.076,
          0.08,
          0.084,
          0.088,
          0.092,
          0.096,
          0.1
         ],
         "xaxis": "x13",
         "y": [
          -0.08025642786295228,
          0.16294430457009879,
          0.44667849240865837,
          0.740546044098595,
          1.0242802319371547,
          1.2826810101472714,
          1.5005483329518796,
          1.6677488364996023,
          1.7893492027161277,
          1.8856161593042104,
          1.9666830701152276,
          2.0224165712978017,
          2.057883344777622,
          2.06295002670331,
          2.0477499809262447,
          2.017349889372113,
          1.9768164339666048,
          1.926149614709719,
          1.8653494316014563,
          1.7893492027161277,
          1.6880155642023564,
          1.556281834134454,
          1.3840146486610427,
          1.1661473258564345,
          0.8976131837949406,
          0.578412222476561
         ],
         "yaxis": "y13"
        },
        {
         "marker": {
          "color": "rgb(0,128,192)"
         },
         "mode": "lines",
         "type": "scatter",
         "x": [
          0.104,
          0.108,
          0.112,
          0.116,
          0.12,
          0.124,
          0.128,
          0.132,
          0.136,
          0.14,
          0.144,
          0.148,
          0.152,
          0.156,
          0.16,
          0.164,
          0.168,
          0.172,
          0.176,
          0.18,
          0.184,
          0.188,
          0.192,
          0.196,
          0.2,
          0.204,
          0.208,
          0.212,
          0.216,
          0.22,
          0.224,
          0.228,
          0.232,
          0.236,
          0.24,
          0.244,
          0.248,
          0.252,
          0.256,
          0.26,
          0.264,
          0.268,
          0.272,
          0.276,
          0.28,
          0.284
         ],
         "xaxis": "x13",
         "y": [
          0.22374448767836155,
          -0.1207898832684608,
          -0.4095907530327089,
          -0.6122580300602515,
          -0.7237250324253999,
          -0.769325169756597,
          -0.7997252613107284,
          -0.8402587167162369,
          -0.8909255359731225,
          -0.9517257190813853,
          -1.0074592202639594,
          -1.0530593575951566,
          -1.0935928130006651,
          -1.1239929045547965,
          -1.139192950331862,
          -1.1493263141832393,
          -1.1493263141832393,
          -1.1442596322575507,
          -1.1341262684061737,
          -1.1087928587777307,
          -1.0935928130006651,
          -1.0733260852979107,
          -1.0631927214465338,
          -1.0429259937437794,
          -1.0175925841153366,
          -0.9973258564125823,
          -0.9719924467841395,
          -0.9466590371556968,
          -0.9213256275272539,
          -0.8909255359731225,
          -0.8605254444189911,
          -0.8199919890134826,
          -0.7794585336079741,
          -0.7287917143510885,
          -0.6781248950942028,
          -0.6375914396886944,
          -0.6021246662088744,
          -0.571724574654743,
          -0.5413244831006117,
          -0.5109243915464802,
          -0.49065766384372594,
          -0.47545761806666026,
          -0.4653242542152832,
          -0.43999084458684035,
          -0.374123979552889,
          -0.2525236133363635
         ],
         "yaxis": "y13"
        },
        {
         "marker": {
          "color": "rgb(256,128,0)"
         },
         "mode": "lines",
         "type": "scatter",
         "x": [
          0,
          0.004,
          0.008,
          0.012,
          0.016,
          0.02,
          0.024,
          0.028,
          0.032,
          0.036,
          0.04,
          0.044,
          0.048,
          0.052,
          0.056,
          0.06,
          0.064,
          0.068,
          0.072,
          0.076,
          0.08,
          0.084,
          0.088,
          0.092,
          0.096,
          0.1,
          0.104,
          0.108,
          0.112
         ],
         "xaxis": "x14",
         "y": [
          -0.04880460440985136,
          0.0727374708171266,
          0.25037588845655595,
          0.4700865629053238,
          0.7038213229572045,
          0.9235319974059724,
          1.1198691958495521,
          1.2741341374837933,
          1.3956762127107714,
          1.484495421530486,
          1.5546158495460503,
          1.6013628015564263,
          1.6340856679636897,
          1.6621338391699154,
          1.6948567055771786,
          1.7322542671854795,
          1.774326523994818,
          1.8023746952010438,
          1.8163987808041566,
          1.811724085603119,
          1.7836759143968934,
          1.7369289623865172,
          1.6668085343709529,
          1.5639652399481254,
          1.4283990791180348,
          1.232061880674455,
          0.9702789494163485,
          0.661749066147866,
          0.34854448767834584
         ],
         "yaxis": "y14"
        },
        {
         "marker": {
          "color": "rgb(0,192,160)"
         },
         "mode": "lines",
         "type": "scatter",
         "x": [
          0.116,
          0.12,
          0.124,
          0.128,
          0.132,
          0.136,
          0.14,
          0.144,
          0.148,
          0.152,
          0.156,
          0.16,
          0.164,
          0.168,
          0.172,
          0.176,
          0.18,
          0.184,
          0.188,
          0.192,
          0.196,
          0.2,
          0.204,
          0.208,
          0.212,
          0.216,
          0.22,
          0.224,
          0.228,
          0.232,
          0.236,
          0.24,
          0.244,
          0.248,
          0.252,
          0.256
         ],
         "xaxis": "x14",
         "y": [
          0.09143625162127705,
          -0.08620216601815228,
          -0.19839485084305503,
          -0.259165888456544,
          -0.31526223086899535,
          -0.3853826588845596,
          -0.48355125810634947,
          -0.6284668093385155,
          -0.8107799221789824,
          -1.0304905966277502,
          -1.278249442282744,
          -1.5400323735408503,
          -1.7877912191958438,
          -1.9934778080414988,
          -2.124369273670552,
          -2.175790920881966,
          -2.175790920881966,
          -2.1430680544747025,
          -2.0822970168612134,
          -2.002827198443574,
          -1.9046585992217842,
          -1.7831165239948061,
          -1.6335262775616026,
          -1.4512131647211355,
          -1.2548759662775557,
          -1.058538767833976,
          -0.8902497405966219,
          -0.7500088845654935,
          -0.6424908949416284,
          -0.5723704669260642,
          -0.5349729053177632,
          -0.5209488197146503,
          -0.5162741245136128,
          -0.4882259533073871,
          -0.4181055252918229,
          -0.27318997405965684
         ],
         "yaxis": "y14"
        },
        {
         "marker": {
          "color": "rgb(256,128,0)"
         },
         "mode": "lines",
         "type": "scatter",
         "x": [
          0,
          0.004,
          0.008,
          0.012,
          0.016,
          0.02,
          0.024,
          0.028,
          0.032,
          0.036,
          0.04,
          0.044,
          0.048,
          0.052,
          0.056,
          0.06,
          0.064,
          0.068,
          0.072,
          0.076,
          0.08,
          0.084,
          0.088,
          0.092,
          0.096,
          0.1,
          0.104
         ],
         "xaxis": "x15",
         "y": [
          -0.057194781414508004,
          0.20548340581369068,
          0.4602016479743682,
          0.683080109864961,
          0.8581989013504268,
          0.9935179674982867,
          1.0890373083085407,
          1.1686367589837525,
          1.232316319523922,
          1.280075989929049,
          1.3119157701991335,
          1.3278356603341759,
          1.3437555504692182,
          1.3596754406042606,
          1.375595330739303,
          1.4153950560769089,
          1.4472348363469936,
          1.4790746166170783,
          1.4790746166170783,
          1.4551947814145147,
          1.3915152208743453,
          1.2880359349965702,
          1.1527168688487102,
          0.9775980773632443,
          0.7785994506752151,
          0.5398010986495799,
          0.27712291142138124
         ],
         "yaxis": "y15"
        },
        {
         "marker": {
          "color": "rgb(0,256,128)"
         },
         "mode": "lines",
         "type": "scatter",
         "x": [
          0.108,
          0.112,
          0.116,
          0.12,
          0.124,
          0.128,
          0.132,
          0.136,
          0.14,
          0.144,
          0.148,
          0.152,
          0.156,
          0.16,
          0.164,
          0.168,
          0.172,
          0.176,
          0.18,
          0.184,
          0.188,
          0.192,
          0.196,
          0.2,
          0.204,
          0.208,
          0.212,
          0.216,
          0.22,
          0.224,
          0.228,
          0.232,
          0.236,
          0.24,
          0.244,
          0.248,
          0.252,
          0.256,
          0.26,
          0.264,
          0.268,
          0.272,
          0.276,
          0.28
         ],
         "xaxis": "x15",
         "y": [
          0.022404669260703718,
          -0.1686340123598044,
          -0.288033188372622,
          -0.3198729686427067,
          -0.30395307850766434,
          -0.2641533531700585,
          -0.24823346303501614,
          -0.24823346303501614,
          -0.2641533531700585,
          -0.3278329137102279,
          -0.41539230945296074,
          -0.5427514305332996,
          -0.6939903868162017,
          -0.8770691233691887,
          -1.0919876401922604,
          -1.2909862668802896,
          -1.4581451132982344,
          -1.5457045090409671,
          -1.537744563973446,
          -1.442225223163192,
          -1.2750663767452473,
          -1.0681078049896968,
          -0.845229343099104,
          -0.6382707713435536,
          -0.4790718699931301,
          -0.3755925841153549,
          -0.3119130235751855,
          -0.288033188372622,
          -0.29599313344014316,
          -0.335792858777749,
          -0.39151247425039726,
          -0.45519203479056664,
          -0.5109116502632148,
          -0.5586713206683418,
          -0.5825511558709053,
          -0.5905111009384265,
          -0.6064309910734689,
          -0.654190661478596,
          -0.7417500572213288,
          -0.8611492332341464,
          -0.9248287937743158,
          -0.8929890135042311,
          -0.7258301670862864,
          -0.4233522545204819
         ],
         "yaxis": "y15"
        },
        {
         "marker": {
          "color": "rgb(256,192,0)"
         },
         "mode": "lines",
         "type": "scatter",
         "x": [
          0,
          0.004,
          0.008,
          0.012,
          0.016,
          0.02,
          0.024,
          0.028,
          0.032,
          0.036,
          0.04,
          0.044,
          0.048,
          0.052,
          0.056,
          0.06,
          0.064,
          0.068,
          0.072,
          0.076,
          0.08,
          0.084,
          0.088,
          0.092,
          0.096,
          0.1,
          0.104,
          0.108,
          0.112,
          0.116,
          0.12,
          0.124,
          0.128,
          0.132,
          0.136,
          0.14,
          0.144,
          0.148,
          0.152,
          0.156,
          0.16
         ],
         "xaxis": "x16",
         "y": [
          -0.18881213000685232,
          0.04416668619822895,
          0.2286082490272516,
          0.3499513824673981,
          0.40334236118106254,
          0.40334236118106254,
          0.3645125584802157,
          0.29656040375373366,
          0.23346197436485747,
          0.18007099565119303,
          0.146094918287952,
          0.10726511558710512,
          0.058727862211046526,
          0.005336883497382071,
          -0.018931743190647228,
          0.0004831581597762116,
          0.10241139024949926,
          0.2917066784161278,
          0.563515297322056,
          0.8984223456168603,
          1.2624517459372997,
          1.6119199702449216,
          1.912850941176485,
          2.1458297573815663,
          2.3060026935225597,
          2.4079309256122827,
          2.4516144536507354,
          2.4516144536507354,
          2.4127846509498885,
          2.354539946898618,
          2.2865877921721363,
          2.2089281867704424,
          2.126414856031143,
          2.0439015252918433,
          1.9613881945525435,
          1.8594599624628205,
          1.7235556530098564,
          1.5342603648432278,
          1.2915740979629349,
          1.005204303044189,
          0.6800047054245966
         ],
         "yaxis": "y16"
        },
        {
         "marker": {
          "color": "rgb(0,0,256)"
         },
         "mode": "lines",
         "type": "scatter",
         "x": [
          0.164,
          0.168,
          0.172,
          0.176,
          0.18,
          0.184,
          0.188,
          0.192,
          0.196,
          0.2,
          0.204,
          0.208,
          0.212,
          0.216,
          0.22,
          0.224,
          0.228,
          0.232,
          0.236,
          0.24,
          0.244,
          0.248,
          0.252,
          0.256,
          0.26,
          0.264,
          0.268,
          0.272,
          0.276,
          0.28,
          0.284,
          0.288,
          0.292
         ],
         "xaxis": "x16",
         "y": [
          0.3353902064545805,
          -0.018931743190647228,
          -0.3635462421606633,
          -0.68389211444265,
          -0.9751156346990015,
          -1.2323630775921122,
          -1.4653418937971934,
          -1.6497834566262162,
          -1.7856877660791801,
          -1.863347371480874,
          -1.9070308995193266,
          -1.9215920755321443,
          -1.9118846248569326,
          -1.8827622728312974,
          -1.8390787447928445,
          -1.790541491416786,
          -1.7371505127031215,
          -1.683759533989457,
          -1.620661104600581,
          -1.552708949874099,
          -1.479903069810011,
          -1.3925360137331055,
          -1.2906077816433825,
          -1.1595571975280243,
          -0.9993842613870308,
          -0.8246501492332199,
          -0.6499160370794089,
          -0.49945055161362734,
          -0.38781486884869254,
          -0.3198627141222105,
          -0.2761791860837578,
          -0.23249565804530506,
          -0.16939722865642887
         ],
         "yaxis": "y16"
        },
        {
         "marker": {
          "color": "rgb(256,192,0)"
         },
         "mode": "lines",
         "type": "scatter",
         "x": [
          0,
          0.004,
          0.008,
          0.012,
          0.016,
          0.02,
          0.024,
          0.028,
          0.032,
          0.036,
          0.04,
          0.044,
          0.048,
          0.052,
          0.056,
          0.06,
          0.064,
          0.068,
          0.072,
          0.076,
          0.08,
          0.084,
          0.088,
          0.092,
          0.096,
          0.1,
          0.104,
          0.108,
          0.112,
          0.116,
          0.12,
          0.124,
          0.128,
          0.132,
          0.136,
          0.14,
          0.144
         ],
         "xaxis": "x17",
         "y": [
          -0.12085997528037028,
          0.04902041153583481,
          0.13153374227513442,
          0.14124119295034615,
          0.10726511558710512,
          0.06358158754865238,
          0.015044334172593791,
          -0.014078017853041367,
          -0.03834664454107067,
          -0.057761545891494105,
          -0.05290782055388824,
          -0.033492919203464804,
          0.0004831581597762116,
          0.03445923552301723,
          0.058727862211046526,
          0.07814276356146997,
          0.08785021423668168,
          0.10241139024949926,
          0.1558023689631637,
          0.28685295307852193,
          0.5489541213092384,
          0.8838611696040427,
          1.1944995912108176,
          1.4032097807278696,
          1.456600759441534,
          1.422624682078293,
          1.3740874287022344,
          1.3643799780270227,
          1.3886486047150521,
          1.427478407415899,
          1.4323321327535048,
          1.3643799780270227,
          1.213914492561241,
          0.976081951018554,
          0.6897121560998083,
          0.40334236118106254,
          0.1703635449759813
         ],
         "yaxis": "y17"
        },
        {
         "marker": {
          "color": "rgb(0,64,224)"
         },
         "mode": "lines",
         "type": "scatter",
         "x": [
          0.148,
          0.152,
          0.156,
          0.16,
          0.164,
          0.168,
          0.172,
          0.176,
          0.18,
          0.184,
          0.188,
          0.192,
          0.196,
          0.2,
          0.204,
          0.208,
          0.212,
          0.216,
          0.22,
          0.224,
          0.228,
          0.232,
          0.236,
          0.24,
          0.244,
          0.248,
          0.252,
          0.256,
          0.26,
          0.264,
          0.268,
          0.272,
          0.276,
          0.28,
          0.284,
          0.288,
          0.292
         ],
         "xaxis": "x17",
         "y": [
          0.015044334172593791,
          -0.07232272190431169,
          -0.12571370061797613,
          -0.14512860196839958,
          -0.130567425955582,
          -0.09659134859234098,
          -0.06261527122909996,
          -0.057761545891494105,
          -0.07717644724191754,
          -0.09659134859234098,
          -0.09173762325473513,
          -0.07717644724191754,
          -0.07717644724191754,
          -0.10144507392994684,
          -0.1548360526436113,
          -0.2130807566948816,
          -0.2761791860837578,
          -0.32957016479742224,
          -0.35383879148545155,
          -0.3441313408102398,
          -0.31500898878460465,
          -0.2907403620965754,
          -0.35383879148545155,
          -0.5771101570153211,
          -0.9702619093613957,
          -1.479903069810011,
          -1.9604218782329912,
          -2.2856214758525835,
          -2.4069646092927304,
          -2.34871990524146,
          -2.140009715724408,
          -1.8390787447928445,
          -1.4993179711604345,
          -1.1741183735408418,
          -0.9023097546349137,
          -0.6499160370794089,
          -0.3926685941862984
         ],
         "yaxis": "y17"
        },
        {
         "marker": {
          "color": "rgb(256,192,0)"
         },
         "mode": "lines",
         "type": "scatter",
         "x": [
          0,
          0.004,
          0.008,
          0.012,
          0.016,
          0.02,
          0.024,
          0.028,
          0.032,
          0.036,
          0.04,
          0.044,
          0.048,
          0.052,
          0.056,
          0.06,
          0.064,
          0.068
         ],
         "xaxis": "x18",
         "y": [
          -0.06261527122909996,
          0.06358158754865238,
          0.1849247209887989,
          0.3499513824673981,
          0.5586615719844501,
          0.8498850922408017,
          1.2284756685740588,
          1.6847258503090095,
          2.1458297573815663,
          2.568103861753276,
          2.873888558022445,
          3.0389152195010443,
          3.087452472877103,
          2.975816790112168,
          2.7428379739070867,
          2.369101122911436,
          1.8594599624628205,
          1.2381831192492705
         ],
         "yaxis": "y18"
        },
        {
         "marker": {
          "color": "rgb(0,128,192)"
         },
         "mode": "lines",
         "type": "scatter",
         "x": [
          0.072,
          0.076,
          0.08,
          0.084,
          0.088,
          0.092,
          0.096,
          0.1,
          0.104,
          0.108,
          0.112,
          0.116,
          0.12,
          0.124,
          0.128,
          0.132,
          0.136,
          0.14,
          0.144,
          0.148,
          0.152,
          0.156,
          0.16
         ],
         "xaxis": "x18",
         "y": [
          0.5780764733348736,
          -0.028639193865858947,
          -0.5576952556648976,
          -1.033360338750272,
          -1.5284403231860695,
          -2.033227758297079,
          -2.455501862668789,
          -2.7515791082627463,
          -2.9020445937285277,
          -2.921459495078951,
          -2.858361065690075,
          -2.732164206912323,
          -2.581698721446541,
          -2.445794411993577,
          -2.3293050038910366,
          -2.2176693211261016,
          -2.110887363698773,
          -2.0186665822842613,
          -1.9070308995193266,
          -1.761419139391151,
          -1.5332940485236755,
          -1.169264648203236,
          -0.6693309384298324
         ],
         "yaxis": "y18"
        },
        {
         "marker": {
          "color": "rgb(256,192,0)"
         },
         "mode": "lines",
         "type": "scatter",
         "x": [
          0,
          0.004,
          0.008,
          0.012,
          0.016,
          0.02,
          0.024,
          0.028,
          0.032,
          0.036,
          0.04,
          0.044,
          0.048,
          0.052,
          0.056,
          0.06,
          0.064,
          0.068
         ],
         "xaxis": "x19",
         "y": [
          -0.09211669153888102,
          0.14975496665902846,
          0.363718356603333,
          0.600938636758975,
          0.847461672999152,
          1.1218929774929338,
          1.4102784161135182,
          1.6986638547341026,
          2.0475172079041646,
          2.4382329634546336,
          2.8242973409628354,
          3.047563486991675,
          2.6196367071030657,
          1.9265813788052097,
          1.247480184634156,
          0.9218837216754319,
          1.3079480991836334,
          1.4102784161135182
         ],
         "yaxis": "y19"
        },
        {
         "marker": {
          "color": "rgb(0,192,160)"
         },
         "mode": "lines",
         "type": "scatter",
         "x": [
          0.072,
          0.076,
          0.08,
          0.084,
          0.088,
          0.092,
          0.096,
          0.1,
          0.104,
          0.108,
          0.112,
          0.116,
          0.12,
          0.124,
          0.128,
          0.132,
          0.136,
          0.14
         ],
         "xaxis": "x19",
         "y": [
          1.1870122700846788,
          -0.16188736217289337,
          -1.9945303108262844,
          -3.7853108570992684,
          -5.483063842526902,
          -5.836568573739231,
          -5.850522707866034,
          -4.948155367666141,
          -3.669026406042581,
          -2.6968883952086755,
          -1.9108055060654696,
          -1.6689338478675602,
          -1.6084659333180829,
          -1.4968328603036631,
          -1.4270621896696507,
          -1.4549704579232556,
          -1.4828787261768606,
          -1.2921722264438935
         ],
         "yaxis": "y19"
        },
        {
         "marker": {
          "color": "rgb(256,192,0)"
         },
         "mode": "lines",
         "type": "scatter",
         "x": [
          0,
          0.004,
          0.008,
          0.012,
          0.016,
          0.02,
          0.024,
          0.028,
          0.032,
          0.036,
          0.04,
          0.044,
          0.048,
          0.052,
          0.056,
          0.06,
          0.064,
          0.068,
          0.072,
          0.076,
          0.08,
          0.084,
          0.088,
          0.092,
          0.096,
          0.1,
          0.104,
          0.108,
          0.112,
          0.116,
          0.12
         ],
         "xaxis": "x20",
         "y": [
          -0.14998232730600544,
          0.04902041153583481,
          0.17521727031358716,
          0.24802315037767506,
          0.3014141290913395,
          0.35480510780500396,
          0.40334236118106254,
          0.4373184385443036,
          0.46644079056993876,
          0.4810019665827563,
          0.490709417257968,
          0.490709417257968,
          0.5246854946212091,
          0.6217600013733262,
          0.7964941135271372,
          1.005204303044189,
          1.1896458658732119,
          1.3449650766765993,
          1.4857231114671692,
          1.6458960476081625,
          1.810922709086762,
          1.9371195678645141,
          2.0341940746166314,
          2.08273132799269,
          2.1069999546807194,
          2.087585053330296,
          2.0002179972533902,
          1.840045061112397,
          1.5973587942321041,
          1.252744295262088,
          0.8159090148775606
         ],
         "yaxis": "y20"
        },
        {
         "marker": {
          "color": "rgb(0,256,128)"
         },
         "mode": "lines",
         "type": "scatter",
         "x": [
          0.124,
          0.128,
          0.132,
          0.136,
          0.14,
          0.144,
          0.148,
          0.152,
          0.156,
          0.16,
          0.164,
          0.168,
          0.172,
          0.176,
          0.18,
          0.184,
          0.188,
          0.192,
          0.196,
          0.2,
          0.204,
          0.208,
          0.212,
          0.216,
          0.22,
          0.224,
          0.228,
          0.232,
          0.236,
          0.24,
          0.244,
          0.248,
          0.252,
          0.256,
          0.26,
          0.264,
          0.268,
          0.272
         ],
         "xaxis": "x20",
         "y": [
          0.3353902064545805,
          -0.10144507392994684,
          -0.41208349553672186,
          -0.5771101570153211,
          -0.6305011357289856,
          -0.6207936850537739,
          -0.581963882352927,
          -0.5382803543144742,
          -0.5043042769512331,
          -0.5237191783016566,
          -0.5868176076905328,
          -0.7081607411306793,
          -0.8877485786220961,
          -1.1449960215152066,
          -1.4944642458228286,
          -1.8730548221560857,
          -2.1788395184252547,
          -2.271060299839766,
          -2.096326187685955,
          -1.7031744353398806,
          -1.2080944509040827,
          -0.7858203465323731,
          -0.4897431009384156,
          -0.3247164394598164,
          -0.2519105593957285,
          -0.23249565804530506,
          -0.24705683405812262,
          -0.3053015381093929,
          -0.4217909462119336,
          -0.6207936850537739,
          -0.9071634799725196,
          -1.2129481762416887,
          -1.450780717784376,
          -1.547855224536493,
          -1.4944642458228286,
          -1.3245838590066235,
          -1.0479215147630894,
          -0.6644772130922265
         ],
         "yaxis": "y20"
        },
        {
         "marker": {
          "color": "rgb(256,256,0)"
         },
         "mode": "lines",
         "type": "scatter",
         "x": [
          0,
          0.004,
          0.008,
          0.012,
          0.016,
          0.02,
          0.024,
          0.028,
          0.032,
          0.036,
          0.04,
          0.044,
          0.048,
          0.052,
          0.056,
          0.06,
          0.064,
          0.068,
          0.072,
          0.076,
          0.08,
          0.084,
          0.088,
          0.092,
          0.096,
          0.1,
          0.104,
          0.108,
          0.112,
          0.116,
          0.12,
          0.124,
          0.128,
          0.132,
          0.136
         ],
         "xaxis": "x21",
         "y": [
          -0.07232272190431169,
          0.28685295307852193,
          0.6460286280613555,
          0.9372521483177071,
          1.1265474364843358,
          1.2236219432364528,
          1.257598020599694,
          1.2624517459372997,
          1.2478905699244822,
          1.2090607672236353,
          1.1605235138475767,
          1.1071325351339123,
          1.048887831082642,
          0.9857894016937657,
          0.9032760709544662,
          0.8159090148775606,
          0.7333956841382611,
          0.6751509800869907,
          0.6460286280613555,
          0.6460286280613555,
          0.6702972547493848,
          0.7188345081254435,
          0.7625180361638961,
          0.8062015642023489,
          0.8256164655527723,
          0.8498850922408017,
          0.8838611696040427,
          0.9323984229801012,
          0.976081951018554,
          0.9857894016937657,
          0.9615207750057364,
          0.8887148949416486,
          0.7770792121767137,
          0.6023451000229028,
          0.38392745983063914
         ],
         "yaxis": "y21"
        },
        {
         "marker": {
          "color": "rgb(0,0,256)"
         },
         "mode": "lines",
         "type": "scatter",
         "x": [
          0.14,
          0.144,
          0.148,
          0.152,
          0.156,
          0.16,
          0.164,
          0.168,
          0.172,
          0.176,
          0.18,
          0.184,
          0.188,
          0.192,
          0.196,
          0.2,
          0.204,
          0.208,
          0.212,
          0.216,
          0.22,
          0.224,
          0.228,
          0.232,
          0.236,
          0.24,
          0.244,
          0.248,
          0.252
         ],
         "xaxis": "x21",
         "y": [
          0.1558023689631637,
          -0.033492919203464804,
          -0.19366585534445818,
          -0.3441313408102398,
          -0.5237191783016566,
          -0.7469905438315262,
          -0.994530536049425,
          -1.2129481762416887,
          -1.3828285630578938,
          -1.5041716964980403,
          -1.581831301899734,
          -1.6255148299381867,
          -1.654637181963822,
          -1.6789058086518511,
          -1.6983207100022746,
          -1.6983207100022746,
          -1.6643446326390336,
          -1.5963924779125516,
          -1.513879147173252,
          -1.4265120910963465,
          -1.3342913096818352,
          -1.242070528267324,
          -1.1498497468528126,
          -1.0527752401006953,
          -0.9654081840237898,
          -0.8683336772716727,
          -0.7421368184939203,
          -0.5625489810025035,
          -0.3198627141222105
         ],
         "yaxis": "y21"
        },
        {
         "marker": {
          "color": "rgb(256,256,0)"
         },
         "mode": "lines",
         "type": "scatter",
         "x": [
          0,
          0.004,
          0.008,
          0.012,
          0.016,
          0.02,
          0.024,
          0.028,
          0.032,
          0.036,
          0.04,
          0.044,
          0.048,
          0.052,
          0.056,
          0.06,
          0.064,
          0.068,
          0.072,
          0.076,
          0.08,
          0.084,
          0.088,
          0.092,
          0.096,
          0.1,
          0.104,
          0.108
         ],
         "xaxis": "x22",
         "y": [
          0.0004831581597762116,
          0.422757262531486,
          0.69941960677502,
          0.8401776415655899,
          0.8790074442664368,
          0.8304701908903782,
          0.7091270574502317,
          0.5295392199588149,
          0.3596588331426098,
          0.28685295307852193,
          0.33053648111697465,
          0.48585569192036215,
          0.6897121560998083,
          0.874153718928831,
          1.005204303044189,
          1.0343266550698242,
          0.9809356763561599,
          0.874153718928831,
          0.7576643108262903,
          0.665443529411779,
          0.6217600013733262,
          0.5877839240100853,
          0.5489541213092384,
          0.4761482412451505,
          0.3790737344930333,
          0.28685295307852193,
          0.20433962233922232,
          0.13153374227513442
         ],
         "yaxis": "y22"
        },
        {
         "marker": {
          "color": "rgb(0,64,224)"
         },
         "mode": "lines",
         "type": "scatter",
         "x": [
          0.112,
          0.116,
          0.12,
          0.124,
          0.128,
          0.132,
          0.136,
          0.14,
          0.144,
          0.148,
          0.152,
          0.156,
          0.16,
          0.164,
          0.168,
          0.172,
          0.176,
          0.18,
          0.184,
          0.188,
          0.192,
          0.196,
          0.2,
          0.204,
          0.208,
          0.212,
          0.216,
          0.22,
          0.224,
          0.228,
          0.232,
          0.236,
          0.24
         ],
         "xaxis": "x22",
         "y": [
          0.058727862211046526,
          -0.004370567177829648,
          -0.07232272190431169,
          -0.11600624994276441,
          -0.14998232730600544,
          -0.20822703135727574,
          -0.3198627141222105,
          -0.475181924925598,
          -0.6499160370794089,
          -0.8100889732204023,
          -0.9411395573357606,
          -1.0382140640878776,
          -1.1207273948271774,
          -1.1935332748912653,
          -1.2760466056305648,
          -1.3294375843442294,
          -1.3148764083314117,
          -1.266339154955353,
          -1.2275093522545062,
          -1.2857540563057765,
          -1.4896105204852228,
          -1.819663843442421,
          -2.2176693211261016,
          -2.586552446784147,
          -2.7661402842755636,
          -2.68848067887387,
          -2.450648137331183,
          -2.212815595788496,
          -2.0769112863355317,
          -1.9943979555962321,
          -1.7808340407415744,
          -1.3876822883954996,
          -0.8537725012588551
         ],
         "yaxis": "y22"
        },
        {
         "marker": {
          "color": "rgb(256,256,0)"
         },
         "mode": "lines",
         "type": "scatter",
         "x": [
          0,
          0.004,
          0.008,
          0.012,
          0.016,
          0.02,
          0.024,
          0.028,
          0.032,
          0.036,
          0.04,
          0.044,
          0.048,
          0.052,
          0.056,
          0.06,
          0.064,
          0.068,
          0.072,
          0.076,
          0.08,
          0.084,
          0.088,
          0.092,
          0.096,
          0.1,
          0.104,
          0.108,
          0.112,
          0.116,
          0.12
         ],
         "xaxis": "x23",
         "y": [
          -0.06885980132754357,
          0.2799935518425182,
          0.6334982830548475,
          0.9125809655908969,
          1.0893333311970614,
          1.1870122700846788,
          1.2335260505073538,
          1.256782940718691,
          1.247480184634156,
          1.2149205383382837,
          1.1637553798733413,
          1.066076440985724,
          0.9218837216754319,
          0.7590854901960696,
          0.619544148928045,
          0.57303036850537,
          0.619544148928045,
          0.7125717097733948,
          0.8149020267032796,
          0.8893240753795594,
          0.9404892338445018,
          0.9730488801403743,
          0.9823516362249092,
          0.9730488801403743,
          0.9451406118867692,
          0.8986268314640944,
          0.8428102949568845,
          0.7683882462806046,
          0.6660579293507198,
          0.5265165880826952,
          0.3590669785610655
         ],
         "yaxis": "y23"
        },
        {
         "marker": {
          "color": "rgb(0,128,192)"
         },
         "mode": "lines",
         "type": "scatter",
         "x": [
          0.124,
          0.128,
          0.132,
          0.136,
          0.14,
          0.144,
          0.148,
          0.152,
          0.156,
          0.16,
          0.164,
          0.168,
          0.172,
          0.176,
          0.18,
          0.184,
          0.188,
          0.192,
          0.196,
          0.2,
          0.204,
          0.208,
          0.212,
          0.216,
          0.22,
          0.224,
          0.228,
          0.232,
          0.236
         ],
         "xaxis": "x23",
         "y": [
          0.17766323491263342,
          0.0009108693064687816,
          -0.18049287434196334,
          -0.35259386190586045,
          -0.5153920933852226,
          -0.6735389468223173,
          -0.8270344222171445,
          -0.9805298976119716,
          -1.1107684827954614,
          -1.2084474216830787,
          -1.2549612021057535,
          -1.2549612021057535,
          -1.2270529338521485,
          -1.1898419095140087,
          -1.1526308851758689,
          -1.1107684827954614,
          -1.0689060804150539,
          -1.0270436780346466,
          -0.9851812756542391,
          -0.9433188732738317,
          -0.9107592269779593,
          -0.8875023367666218,
          -0.8688968245975519,
          -0.8549426904707494,
          -0.840988556343947,
          -0.7991261539635395,
          -0.7014472150759222,
          -0.5386489835965601,
          -0.32933697169452303
         ],
         "yaxis": "y23"
        },
        {
         "marker": {
          "color": "rgb(256,256,0)"
         },
         "mode": "lines",
         "type": "scatter",
         "x": [
          0,
          0.004,
          0.008,
          0.012,
          0.016,
          0.02,
          0.024,
          0.028,
          0.032,
          0.036,
          0.04,
          0.044,
          0.048,
          0.052,
          0.056,
          0.06,
          0.064,
          0.068,
          0.072,
          0.076,
          0.08,
          0.084,
          0.088,
          0.092,
          0.096,
          0.1,
          0.104,
          0.108,
          0.112,
          0.116,
          0.12,
          0.124
         ],
         "xaxis": "x24",
         "y": [
          -0.07351117936981107,
          0.09858980819408607,
          0.2195256372930408,
          0.30325044205385565,
          0.4055807589837404,
          0.6521037952239174,
          1.075379197070259,
          1.5730766475928804,
          1.9358841348897446,
          1.9917006713969545,
          1.787040037537185,
          1.4521408184939257,
          1.103287465323864,
          0.7497827341115347,
          0.4055807589837404,
          0.16370910078583092,
          0.126498076447691,
          0.3172045761806581,
          0.6381496610971149,
          0.9777002581826417,
          1.275388452887761,
          1.494003220874333,
          1.6474986962691602,
          1.75913176928358,
          1.8289024399175924,
          1.8661134642557324,
          1.81494830579079,
          1.6381959401846253,
          1.3544618796063084,
          1.0009571483939792,
          0.62884690501258,
          0.29394768596932064
         ],
         "yaxis": "y24"
        },
        {
         "marker": {
          "color": "rgb(0,192,160)"
         },
         "mode": "lines",
         "type": "scatter",
         "x": [
          0.128,
          0.132,
          0.136,
          0.14,
          0.144,
          0.148,
          0.152,
          0.156,
          0.16,
          0.164,
          0.168,
          0.172,
          0.176,
          0.18,
          0.184,
          0.188,
          0.192,
          0.196,
          0.2,
          0.204,
          0.208,
          0.212,
          0.216,
          0.22,
          0.224,
          0.228
         ],
         "xaxis": "x24",
         "y": [
          0.024167759517806232,
          -0.16188736217289337,
          -0.320034215609988,
          -0.5014379592584202,
          -0.7200527272449921,
          -0.9805298976119716,
          -1.1944932875562762,
          -1.3665942751201734,
          -1.5712549089799428,
          -1.8456862134737249,
          -2.1852368105592515,
          -2.436411224841696,
          -2.4689708711375684,
          -2.2875671274891363,
          -1.9573192864881446,
          -1.6177686894026178,
          -1.343337384908836,
          -1.1572822632181363,
          -1.0456491902037166,
          -0.9665757634851692,
          -0.8642454465552843,
          -0.7107499711604572,
          -0.5246948494697576,
          -0.3432911058213255,
          -0.2037497645533008,
          -0.101419447623416
         ],
         "yaxis": "y24"
        },
        {
         "marker": {
          "color": "rgb(256,256,0)"
         },
         "mode": "lines",
         "type": "scatter",
         "x": [
          0,
          0.004,
          0.008,
          0.012,
          0.016,
          0.02,
          0.024,
          0.028,
          0.032,
          0.036,
          0.04,
          0.044,
          0.048,
          0.052,
          0.056,
          0.06,
          0.064,
          0.068,
          0.072,
          0.076,
          0.08,
          0.084,
          0.088,
          0.092,
          0.096,
          0.1,
          0.104,
          0.108,
          0.112,
          0.116,
          0.12,
          0.124,
          0.128
         ],
         "xaxis": "x25",
         "y": [
          -0.08746531349661353,
          0.038121893644608704,
          0.17766323491263342,
          0.3265073322651931,
          0.46604867353321777,
          0.57303036850537,
          0.6614065513084524,
          0.7311772219424647,
          0.7962965145342096,
          0.847461672999152,
          0.8846726973372919,
          0.9404892338445018,
          1.0521223068589216,
          1.2335260505073538,
          1.4056270380712508,
          1.4707463306629958,
          1.3777187698176458,
          1.1637553798733413,
          0.9311864777599668,
          0.7358285999847323,
          0.600938636758975,
          0.5265165880826952,
          0.5218652100404276,
          0.5916358806744401,
          0.6939661976043248,
          0.7916451364919421,
          0.8660671851682219,
          0.9032782095063618,
          0.9032782095063618,
          0.8614158071259544,
          0.7590854901960696,
          0.600938636758975,
          0.40092938094147296
         ],
         "yaxis": "y25"
        },
        {
         "marker": {
          "color": "rgb(0,256,128)"
         },
         "mode": "lines",
         "type": "scatter",
         "x": [
          0.132,
          0.136,
          0.14,
          0.144,
          0.148,
          0.152,
          0.156,
          0.16,
          0.164,
          0.168,
          0.172,
          0.176,
          0.18,
          0.184,
          0.188,
          0.192,
          0.196,
          0.2,
          0.204,
          0.208,
          0.212,
          0.216,
          0.22,
          0.224,
          0.228,
          0.232,
          0.236,
          0.24,
          0.244,
          0.248,
          0.252,
          0.256,
          0.26,
          0.264,
          0.268,
          0.272,
          0.276
         ],
         "xaxis": "x25",
         "y": [
          0.17766323491263342,
          -0.03630015503167114,
          -0.21770389868010326,
          -0.347942483863593,
          -0.4130617764553378,
          -0.44562142275121025,
          -0.4874838251316177,
          -0.55725449576563,
          -0.6642361907377823,
          -0.7898233978790046,
          -0.8968050928511568,
          -0.9805298976119716,
          -1.0270436780346466,
          -1.0642547023727864,
          -1.0921629706263913,
          -1.1154198608377288,
          -1.1200712388799963,
          -1.1014657267109265,
          -1.050300568245984,
          -0.9758785195697042,
          -0.8875023367666218,
          -0.8084289100480745,
          -0.7386582394140622,
          -0.6781903248645847,
          -0.59446552010377,
          -0.45027280079347776,
          -0.2502635449759757,
          -0.05955704524300859,
          0.024167759517806232,
          -0.017694642862601178,
          -0.1525846060883584,
          -0.31538283756772056,
          -0.44562142275121025,
          -0.5339976055542925,
          -0.5433003616388276,
          -0.45957555687801277,
          -0.2781718132295806
         ],
         "yaxis": "y25"
        }
       ],
       "layout": {
        "annotations": [
         {
          "font": {
           "size": 16
          },
          "showarrow": false,
          "text": "0",
          "x": 0.08399999999999999,
          "xanchor": "center",
          "xref": "paper",
          "y": 1,
          "yanchor": "bottom",
          "yref": "paper"
         },
         {
          "font": {
           "size": 16
          },
          "showarrow": false,
          "text": "1",
          "x": 0.292,
          "xanchor": "center",
          "xref": "paper",
          "y": 1,
          "yanchor": "bottom",
          "yref": "paper"
         },
         {
          "font": {
           "size": 16
          },
          "showarrow": false,
          "text": "2",
          "x": 0.5,
          "xanchor": "center",
          "xref": "paper",
          "y": 1,
          "yanchor": "bottom",
          "yref": "paper"
         },
         {
          "font": {
           "size": 16
          },
          "showarrow": false,
          "text": "3",
          "x": 0.708,
          "xanchor": "center",
          "xref": "paper",
          "y": 1,
          "yanchor": "bottom",
          "yref": "paper"
         },
         {
          "font": {
           "size": 16
          },
          "showarrow": false,
          "text": "4",
          "x": 0.9159999999999999,
          "xanchor": "center",
          "xref": "paper",
          "y": 1,
          "yanchor": "bottom",
          "yref": "paper"
         }
        ],
        "showlegend": false,
        "template": {
         "data": {
          "bar": [
           {
            "error_x": {
             "color": "#2a3f5f"
            },
            "error_y": {
             "color": "#2a3f5f"
            },
            "marker": {
             "line": {
              "color": "#E5ECF6",
              "width": 0.5
             },
             "pattern": {
              "fillmode": "overlay",
              "size": 10,
              "solidity": 0.2
             }
            },
            "type": "bar"
           }
          ],
          "barpolar": [
           {
            "marker": {
             "line": {
              "color": "#E5ECF6",
              "width": 0.5
             },
             "pattern": {
              "fillmode": "overlay",
              "size": 10,
              "solidity": 0.2
             }
            },
            "type": "barpolar"
           }
          ],
          "carpet": [
           {
            "aaxis": {
             "endlinecolor": "#2a3f5f",
             "gridcolor": "white",
             "linecolor": "white",
             "minorgridcolor": "white",
             "startlinecolor": "#2a3f5f"
            },
            "baxis": {
             "endlinecolor": "#2a3f5f",
             "gridcolor": "white",
             "linecolor": "white",
             "minorgridcolor": "white",
             "startlinecolor": "#2a3f5f"
            },
            "type": "carpet"
           }
          ],
          "choropleth": [
           {
            "colorbar": {
             "outlinewidth": 0,
             "ticks": ""
            },
            "type": "choropleth"
           }
          ],
          "contour": [
           {
            "colorbar": {
             "outlinewidth": 0,
             "ticks": ""
            },
            "colorscale": [
             [
              0,
              "#0d0887"
             ],
             [
              0.1111111111111111,
              "#46039f"
             ],
             [
              0.2222222222222222,
              "#7201a8"
             ],
             [
              0.3333333333333333,
              "#9c179e"
             ],
             [
              0.4444444444444444,
              "#bd3786"
             ],
             [
              0.5555555555555556,
              "#d8576b"
             ],
             [
              0.6666666666666666,
              "#ed7953"
             ],
             [
              0.7777777777777778,
              "#fb9f3a"
             ],
             [
              0.8888888888888888,
              "#fdca26"
             ],
             [
              1,
              "#f0f921"
             ]
            ],
            "type": "contour"
           }
          ],
          "contourcarpet": [
           {
            "colorbar": {
             "outlinewidth": 0,
             "ticks": ""
            },
            "type": "contourcarpet"
           }
          ],
          "heatmap": [
           {
            "colorbar": {
             "outlinewidth": 0,
             "ticks": ""
            },
            "colorscale": [
             [
              0,
              "#0d0887"
             ],
             [
              0.1111111111111111,
              "#46039f"
             ],
             [
              0.2222222222222222,
              "#7201a8"
             ],
             [
              0.3333333333333333,
              "#9c179e"
             ],
             [
              0.4444444444444444,
              "#bd3786"
             ],
             [
              0.5555555555555556,
              "#d8576b"
             ],
             [
              0.6666666666666666,
              "#ed7953"
             ],
             [
              0.7777777777777778,
              "#fb9f3a"
             ],
             [
              0.8888888888888888,
              "#fdca26"
             ],
             [
              1,
              "#f0f921"
             ]
            ],
            "type": "heatmap"
           }
          ],
          "heatmapgl": [
           {
            "colorbar": {
             "outlinewidth": 0,
             "ticks": ""
            },
            "colorscale": [
             [
              0,
              "#0d0887"
             ],
             [
              0.1111111111111111,
              "#46039f"
             ],
             [
              0.2222222222222222,
              "#7201a8"
             ],
             [
              0.3333333333333333,
              "#9c179e"
             ],
             [
              0.4444444444444444,
              "#bd3786"
             ],
             [
              0.5555555555555556,
              "#d8576b"
             ],
             [
              0.6666666666666666,
              "#ed7953"
             ],
             [
              0.7777777777777778,
              "#fb9f3a"
             ],
             [
              0.8888888888888888,
              "#fdca26"
             ],
             [
              1,
              "#f0f921"
             ]
            ],
            "type": "heatmapgl"
           }
          ],
          "histogram": [
           {
            "marker": {
             "pattern": {
              "fillmode": "overlay",
              "size": 10,
              "solidity": 0.2
             }
            },
            "type": "histogram"
           }
          ],
          "histogram2d": [
           {
            "colorbar": {
             "outlinewidth": 0,
             "ticks": ""
            },
            "colorscale": [
             [
              0,
              "#0d0887"
             ],
             [
              0.1111111111111111,
              "#46039f"
             ],
             [
              0.2222222222222222,
              "#7201a8"
             ],
             [
              0.3333333333333333,
              "#9c179e"
             ],
             [
              0.4444444444444444,
              "#bd3786"
             ],
             [
              0.5555555555555556,
              "#d8576b"
             ],
             [
              0.6666666666666666,
              "#ed7953"
             ],
             [
              0.7777777777777778,
              "#fb9f3a"
             ],
             [
              0.8888888888888888,
              "#fdca26"
             ],
             [
              1,
              "#f0f921"
             ]
            ],
            "type": "histogram2d"
           }
          ],
          "histogram2dcontour": [
           {
            "colorbar": {
             "outlinewidth": 0,
             "ticks": ""
            },
            "colorscale": [
             [
              0,
              "#0d0887"
             ],
             [
              0.1111111111111111,
              "#46039f"
             ],
             [
              0.2222222222222222,
              "#7201a8"
             ],
             [
              0.3333333333333333,
              "#9c179e"
             ],
             [
              0.4444444444444444,
              "#bd3786"
             ],
             [
              0.5555555555555556,
              "#d8576b"
             ],
             [
              0.6666666666666666,
              "#ed7953"
             ],
             [
              0.7777777777777778,
              "#fb9f3a"
             ],
             [
              0.8888888888888888,
              "#fdca26"
             ],
             [
              1,
              "#f0f921"
             ]
            ],
            "type": "histogram2dcontour"
           }
          ],
          "mesh3d": [
           {
            "colorbar": {
             "outlinewidth": 0,
             "ticks": ""
            },
            "type": "mesh3d"
           }
          ],
          "parcoords": [
           {
            "line": {
             "colorbar": {
              "outlinewidth": 0,
              "ticks": ""
             }
            },
            "type": "parcoords"
           }
          ],
          "pie": [
           {
            "automargin": true,
            "type": "pie"
           }
          ],
          "scatter": [
           {
            "fillpattern": {
             "fillmode": "overlay",
             "size": 10,
             "solidity": 0.2
            },
            "type": "scatter"
           }
          ],
          "scatter3d": [
           {
            "line": {
             "colorbar": {
              "outlinewidth": 0,
              "ticks": ""
             }
            },
            "marker": {
             "colorbar": {
              "outlinewidth": 0,
              "ticks": ""
             }
            },
            "type": "scatter3d"
           }
          ],
          "scattercarpet": [
           {
            "marker": {
             "colorbar": {
              "outlinewidth": 0,
              "ticks": ""
             }
            },
            "type": "scattercarpet"
           }
          ],
          "scattergeo": [
           {
            "marker": {
             "colorbar": {
              "outlinewidth": 0,
              "ticks": ""
             }
            },
            "type": "scattergeo"
           }
          ],
          "scattergl": [
           {
            "marker": {
             "colorbar": {
              "outlinewidth": 0,
              "ticks": ""
             }
            },
            "type": "scattergl"
           }
          ],
          "scattermapbox": [
           {
            "marker": {
             "colorbar": {
              "outlinewidth": 0,
              "ticks": ""
             }
            },
            "type": "scattermapbox"
           }
          ],
          "scatterpolar": [
           {
            "marker": {
             "colorbar": {
              "outlinewidth": 0,
              "ticks": ""
             }
            },
            "type": "scatterpolar"
           }
          ],
          "scatterpolargl": [
           {
            "marker": {
             "colorbar": {
              "outlinewidth": 0,
              "ticks": ""
             }
            },
            "type": "scatterpolargl"
           }
          ],
          "scatterternary": [
           {
            "marker": {
             "colorbar": {
              "outlinewidth": 0,
              "ticks": ""
             }
            },
            "type": "scatterternary"
           }
          ],
          "surface": [
           {
            "colorbar": {
             "outlinewidth": 0,
             "ticks": ""
            },
            "colorscale": [
             [
              0,
              "#0d0887"
             ],
             [
              0.1111111111111111,
              "#46039f"
             ],
             [
              0.2222222222222222,
              "#7201a8"
             ],
             [
              0.3333333333333333,
              "#9c179e"
             ],
             [
              0.4444444444444444,
              "#bd3786"
             ],
             [
              0.5555555555555556,
              "#d8576b"
             ],
             [
              0.6666666666666666,
              "#ed7953"
             ],
             [
              0.7777777777777778,
              "#fb9f3a"
             ],
             [
              0.8888888888888888,
              "#fdca26"
             ],
             [
              1,
              "#f0f921"
             ]
            ],
            "type": "surface"
           }
          ],
          "table": [
           {
            "cells": {
             "fill": {
              "color": "#EBF0F8"
             },
             "line": {
              "color": "white"
             }
            },
            "header": {
             "fill": {
              "color": "#C8D4E3"
             },
             "line": {
              "color": "white"
             }
            },
            "type": "table"
           }
          ]
         },
         "layout": {
          "annotationdefaults": {
           "arrowcolor": "#2a3f5f",
           "arrowhead": 0,
           "arrowwidth": 1
          },
          "autotypenumbers": "strict",
          "coloraxis": {
           "colorbar": {
            "outlinewidth": 0,
            "ticks": ""
           }
          },
          "colorscale": {
           "diverging": [
            [
             0,
             "#8e0152"
            ],
            [
             0.1,
             "#c51b7d"
            ],
            [
             0.2,
             "#de77ae"
            ],
            [
             0.3,
             "#f1b6da"
            ],
            [
             0.4,
             "#fde0ef"
            ],
            [
             0.5,
             "#f7f7f7"
            ],
            [
             0.6,
             "#e6f5d0"
            ],
            [
             0.7,
             "#b8e186"
            ],
            [
             0.8,
             "#7fbc41"
            ],
            [
             0.9,
             "#4d9221"
            ],
            [
             1,
             "#276419"
            ]
           ],
           "sequential": [
            [
             0,
             "#0d0887"
            ],
            [
             0.1111111111111111,
             "#46039f"
            ],
            [
             0.2222222222222222,
             "#7201a8"
            ],
            [
             0.3333333333333333,
             "#9c179e"
            ],
            [
             0.4444444444444444,
             "#bd3786"
            ],
            [
             0.5555555555555556,
             "#d8576b"
            ],
            [
             0.6666666666666666,
             "#ed7953"
            ],
            [
             0.7777777777777778,
             "#fb9f3a"
            ],
            [
             0.8888888888888888,
             "#fdca26"
            ],
            [
             1,
             "#f0f921"
            ]
           ],
           "sequentialminus": [
            [
             0,
             "#0d0887"
            ],
            [
             0.1111111111111111,
             "#46039f"
            ],
            [
             0.2222222222222222,
             "#7201a8"
            ],
            [
             0.3333333333333333,
             "#9c179e"
            ],
            [
             0.4444444444444444,
             "#bd3786"
            ],
            [
             0.5555555555555556,
             "#d8576b"
            ],
            [
             0.6666666666666666,
             "#ed7953"
            ],
            [
             0.7777777777777778,
             "#fb9f3a"
            ],
            [
             0.8888888888888888,
             "#fdca26"
            ],
            [
             1,
             "#f0f921"
            ]
           ]
          },
          "colorway": [
           "#636efa",
           "#EF553B",
           "#00cc96",
           "#ab63fa",
           "#FFA15A",
           "#19d3f3",
           "#FF6692",
           "#B6E880",
           "#FF97FF",
           "#FECB52"
          ],
          "font": {
           "color": "#2a3f5f"
          },
          "geo": {
           "bgcolor": "white",
           "lakecolor": "white",
           "landcolor": "#E5ECF6",
           "showlakes": true,
           "showland": true,
           "subunitcolor": "white"
          },
          "hoverlabel": {
           "align": "left"
          },
          "hovermode": "closest",
          "mapbox": {
           "style": "light"
          },
          "paper_bgcolor": "white",
          "plot_bgcolor": "#E5ECF6",
          "polar": {
           "angularaxis": {
            "gridcolor": "white",
            "linecolor": "white",
            "ticks": ""
           },
           "bgcolor": "#E5ECF6",
           "radialaxis": {
            "gridcolor": "white",
            "linecolor": "white",
            "ticks": ""
           }
          },
          "scene": {
           "xaxis": {
            "backgroundcolor": "#E5ECF6",
            "gridcolor": "white",
            "gridwidth": 2,
            "linecolor": "white",
            "showbackground": true,
            "ticks": "",
            "zerolinecolor": "white"
           },
           "yaxis": {
            "backgroundcolor": "#E5ECF6",
            "gridcolor": "white",
            "gridwidth": 2,
            "linecolor": "white",
            "showbackground": true,
            "ticks": "",
            "zerolinecolor": "white"
           },
           "zaxis": {
            "backgroundcolor": "#E5ECF6",
            "gridcolor": "white",
            "gridwidth": 2,
            "linecolor": "white",
            "showbackground": true,
            "ticks": "",
            "zerolinecolor": "white"
           }
          },
          "shapedefaults": {
           "line": {
            "color": "#2a3f5f"
           }
          },
          "ternary": {
           "aaxis": {
            "gridcolor": "white",
            "linecolor": "white",
            "ticks": ""
           },
           "baxis": {
            "gridcolor": "white",
            "linecolor": "white",
            "ticks": ""
           },
           "bgcolor": "#E5ECF6",
           "caxis": {
            "gridcolor": "white",
            "linecolor": "white",
            "ticks": ""
           }
          },
          "title": {
           "x": 0.05
          },
          "xaxis": {
           "automargin": true,
           "gridcolor": "white",
           "linecolor": "white",
           "ticks": "",
           "title": {
            "standoff": 15
           },
           "zerolinecolor": "white",
           "zerolinewidth": 2
          },
          "yaxis": {
           "automargin": true,
           "gridcolor": "white",
           "linecolor": "white",
           "ticks": "",
           "title": {
            "standoff": 15
           },
           "zerolinecolor": "white",
           "zerolinewidth": 2
          }
         }
        },
        "xaxis": {
         "anchor": "y",
         "domain": [
          0,
          0.16799999999999998
         ],
         "matches": "x21",
         "showticklabels": false
        },
        "xaxis10": {
         "anchor": "y10",
         "domain": [
          0.832,
          1
         ],
         "matches": "x25",
         "showticklabels": false
        },
        "xaxis11": {
         "anchor": "y11",
         "domain": [
          0,
          0.16799999999999998
         ],
         "matches": "x21",
         "showticklabels": false
        },
        "xaxis12": {
         "anchor": "y12",
         "domain": [
          0.208,
          0.376
         ],
         "matches": "x22",
         "showticklabels": false
        },
        "xaxis13": {
         "anchor": "y13",
         "domain": [
          0.416,
          0.584
         ],
         "matches": "x23",
         "showticklabels": false
        },
        "xaxis14": {
         "anchor": "y14",
         "domain": [
          0.624,
          0.792
         ],
         "matches": "x24",
         "showticklabels": false
        },
        "xaxis15": {
         "anchor": "y15",
         "domain": [
          0.832,
          1
         ],
         "matches": "x25",
         "showticklabels": false
        },
        "xaxis16": {
         "anchor": "y16",
         "domain": [
          0,
          0.16799999999999998
         ],
         "matches": "x21",
         "showticklabels": false
        },
        "xaxis17": {
         "anchor": "y17",
         "domain": [
          0.208,
          0.376
         ],
         "matches": "x22",
         "showticklabels": false
        },
        "xaxis18": {
         "anchor": "y18",
         "domain": [
          0.416,
          0.584
         ],
         "matches": "x23",
         "showticklabels": false
        },
        "xaxis19": {
         "anchor": "y19",
         "domain": [
          0.624,
          0.792
         ],
         "matches": "x24",
         "showticklabels": false
        },
        "xaxis2": {
         "anchor": "y2",
         "domain": [
          0.208,
          0.376
         ],
         "matches": "x22",
         "showticklabels": false
        },
        "xaxis20": {
         "anchor": "y20",
         "domain": [
          0.832,
          1
         ],
         "matches": "x25",
         "showticklabels": false
        },
        "xaxis21": {
         "anchor": "y21",
         "domain": [
          0,
          0.16799999999999998
         ]
        },
        "xaxis22": {
         "anchor": "y22",
         "domain": [
          0.208,
          0.376
         ]
        },
        "xaxis23": {
         "anchor": "y23",
         "domain": [
          0.416,
          0.584
         ]
        },
        "xaxis24": {
         "anchor": "y24",
         "domain": [
          0.624,
          0.792
         ]
        },
        "xaxis25": {
         "anchor": "y25",
         "domain": [
          0.832,
          1
         ]
        },
        "xaxis3": {
         "anchor": "y3",
         "domain": [
          0.416,
          0.584
         ],
         "matches": "x23",
         "showticklabels": false
        },
        "xaxis4": {
         "anchor": "y4",
         "domain": [
          0.624,
          0.792
         ],
         "matches": "x24",
         "showticklabels": false
        },
        "xaxis5": {
         "anchor": "y5",
         "domain": [
          0.832,
          1
         ],
         "matches": "x25",
         "showticklabels": false
        },
        "xaxis6": {
         "anchor": "y6",
         "domain": [
          0,
          0.16799999999999998
         ],
         "matches": "x21",
         "showticklabels": false
        },
        "xaxis7": {
         "anchor": "y7",
         "domain": [
          0.208,
          0.376
         ],
         "matches": "x22",
         "showticklabels": false
        },
        "xaxis8": {
         "anchor": "y8",
         "domain": [
          0.416,
          0.584
         ],
         "matches": "x23",
         "showticklabels": false
        },
        "xaxis9": {
         "anchor": "y9",
         "domain": [
          0.624,
          0.792
         ],
         "matches": "x24",
         "showticklabels": false
        },
        "yaxis": {
         "anchor": "x",
         "domain": [
          0.88,
          1
         ]
        },
        "yaxis10": {
         "anchor": "x10",
         "domain": [
          0.66,
          0.78
         ],
         "matches": "y6",
         "showticklabels": false
        },
        "yaxis11": {
         "anchor": "x11",
         "domain": [
          0.44,
          0.56
         ]
        },
        "yaxis12": {
         "anchor": "x12",
         "domain": [
          0.44,
          0.56
         ],
         "matches": "y11",
         "showticklabels": false
        },
        "yaxis13": {
         "anchor": "x13",
         "domain": [
          0.44,
          0.56
         ],
         "matches": "y11",
         "showticklabels": false
        },
        "yaxis14": {
         "anchor": "x14",
         "domain": [
          0.44,
          0.56
         ],
         "matches": "y11",
         "showticklabels": false
        },
        "yaxis15": {
         "anchor": "x15",
         "domain": [
          0.44,
          0.56
         ],
         "matches": "y11",
         "showticklabels": false
        },
        "yaxis16": {
         "anchor": "x16",
         "domain": [
          0.22,
          0.33999999999999997
         ]
        },
        "yaxis17": {
         "anchor": "x17",
         "domain": [
          0.22,
          0.33999999999999997
         ],
         "matches": "y16",
         "showticklabels": false
        },
        "yaxis18": {
         "anchor": "x18",
         "domain": [
          0.22,
          0.33999999999999997
         ],
         "matches": "y16",
         "showticklabels": false
        },
        "yaxis19": {
         "anchor": "x19",
         "domain": [
          0.22,
          0.33999999999999997
         ],
         "matches": "y16",
         "showticklabels": false
        },
        "yaxis2": {
         "anchor": "x2",
         "domain": [
          0.88,
          1
         ],
         "matches": "y",
         "showticklabels": false
        },
        "yaxis20": {
         "anchor": "x20",
         "domain": [
          0.22,
          0.33999999999999997
         ],
         "matches": "y16",
         "showticklabels": false
        },
        "yaxis21": {
         "anchor": "x21",
         "domain": [
          0,
          0.12
         ]
        },
        "yaxis22": {
         "anchor": "x22",
         "domain": [
          0,
          0.12
         ],
         "matches": "y21",
         "showticklabels": false
        },
        "yaxis23": {
         "anchor": "x23",
         "domain": [
          0,
          0.12
         ],
         "matches": "y21",
         "showticklabels": false
        },
        "yaxis24": {
         "anchor": "x24",
         "domain": [
          0,
          0.12
         ],
         "matches": "y21",
         "showticklabels": false
        },
        "yaxis25": {
         "anchor": "x25",
         "domain": [
          0,
          0.12
         ],
         "matches": "y21",
         "showticklabels": false
        },
        "yaxis3": {
         "anchor": "x3",
         "domain": [
          0.88,
          1
         ],
         "matches": "y",
         "showticklabels": false
        },
        "yaxis4": {
         "anchor": "x4",
         "domain": [
          0.88,
          1
         ],
         "matches": "y",
         "showticklabels": false
        },
        "yaxis5": {
         "anchor": "x5",
         "domain": [
          0.88,
          1
         ],
         "matches": "y",
         "showticklabels": false
        },
        "yaxis6": {
         "anchor": "x6",
         "domain": [
          0.66,
          0.78
         ]
        },
        "yaxis7": {
         "anchor": "x7",
         "domain": [
          0.66,
          0.78
         ],
         "matches": "y6",
         "showticklabels": false
        },
        "yaxis8": {
         "anchor": "x8",
         "domain": [
          0.66,
          0.78
         ],
         "matches": "y6",
         "showticklabels": false
        },
        "yaxis9": {
         "anchor": "x9",
         "domain": [
          0.66,
          0.78
         ],
         "matches": "y6",
         "showticklabels": false
        }
       }
      }
     },
     "metadata": {},
     "output_type": "display_data"
    }
   ],
   "source": [
    "pipe.plot_medoid()"
   ]
  }
 ],
 "metadata": {
  "kernelspec": {
   "display_name": "Python 3.11.0 ('plethapp')",
   "language": "python",
   "name": "python3"
  },
  "language_info": {
   "codemirror_mode": {
    "name": "ipython",
    "version": 3
   },
   "file_extension": ".py",
   "mimetype": "text/x-python",
   "name": "python",
   "nbconvert_exporter": "python",
   "pygments_lexer": "ipython3",
   "version": "3.11.0"
  },
  "orig_nbformat": 4,
  "vscode": {
   "interpreter": {
    "hash": "607d33dffe04f726ca1836534eb3e8f814a9478abdec20ce676a8ccbca46d0d1"
   }
  }
 },
 "nbformat": 4,
 "nbformat_minor": 2
}
